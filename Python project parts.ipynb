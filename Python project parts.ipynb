{
 "cells": [
  {
   "cell_type": "markdown",
   "metadata": {},
   "source": [
    "### Linear Programming Using PuLP"
   ]
  },
  {
   "cell_type": "code",
   "execution_count": 30,
   "metadata": {
    "scrolled": true
   },
   "outputs": [
    {
     "name": "stdout",
     "output_type": "stream",
     "text": [
      "Requirement already satisfied: pulp in c:\\users\\baral\\anaconda3\\lib\\site-packages (1.6.10)\n",
      "Requirement already satisfied: pyparsing>=2.0.1 in c:\\users\\baral\\anaconda3\\lib\\site-packages (from pulp) (2.3.1)\n",
      "Note: you may need to restart the kernel to use updated packages.\n"
     ]
    }
   ],
   "source": [
    "pip install pulp"
   ]
  },
  {
   "cell_type": "code",
   "execution_count": 3,
   "metadata": {
    "scrolled": true
   },
   "outputs": [
    {
     "data": {
      "text/plain": [
       "(2.6666667, 2.6666667, 133.333335)"
      ]
     },
     "execution_count": 3,
     "metadata": {},
     "output_type": "execute_result"
    }
   ],
   "source": [
    "# importing pulp library to solver LP\n",
    "from pulp import * \n",
    "\n",
    "prob = LpProblem (\"SimpleLP\", LpMaximize) #model      \n",
    "\n",
    "#variables\n",
    "x1 = LpVariable (\"x1\", lowBound=0) \n",
    "x2 = LpVariable (\"x2\", lowBound=0) \n",
    "\n",
    "# adding our objective function and constraints into the model\n",
    "prob += 30*x1+20*x2 # objective function \n",
    "prob += 2*x1+x2 <= 8 #constraint 1\n",
    "prob += x1 + 2*x2 <= 8  #constraint 2\n",
    "status = prob.solve() # Uses default solver CBC\n",
    "value(x1), value (x2), value(prob.objective)"
   ]
  },
  {
   "cell_type": "code",
   "execution_count": 43,
   "metadata": {},
   "outputs": [
    {
     "name": "stdout",
     "output_type": "stream",
     "text": [
      "CPXPARAM_Read_DataCheck                          1\n",
      "Found incumbent of value 0.000000 after 0.00 sec. (0.00 ticks)\n",
      "Tried aggregator 1 time.\n",
      "Reduced MIP has 2 rows, 2 columns, and 4 nonzeros.\n",
      "Reduced MIP has 0 binaries, 0 generals, 0 SOSs, and 0 indicators.\n",
      "Presolve time = 0.00 sec. (0.00 ticks)\n",
      "Tried aggregator 1 time.\n",
      "Reduced MIP has 2 rows, 2 columns, and 4 nonzeros.\n",
      "Reduced MIP has 0 binaries, 0 generals, 0 SOSs, and 0 indicators.\n",
      "Presolve time = 0.00 sec. (0.00 ticks)\n",
      "MIP emphasis: balance optimality and feasibility.\n",
      "MIP search method: dynamic search.\n",
      "Parallel mode: deterministic, using up to 8 threads.\n",
      "Root relaxation solution time = 0.00 sec. (0.00 ticks)\n",
      "\n",
      "        Nodes                                         Cuts/\n",
      "   Node  Left     Objective  IInf  Best Integer    Best Bound    ItCnt     Gap\n",
      "\n",
      "*     0+    0                            0.0000      200.0000              --- \n",
      "*     0     0      integral     0      133.3333      133.3333        2    0.00%\n",
      "Elapsed time = 0.02 sec. (0.01 ticks, tree = 0.00 MB, solutions = 2)\n",
      "\n",
      "Root node processing (before b&c):\n",
      "  Real time             =    0.02 sec. (0.01 ticks)\n",
      "Parallel b&c, 8 threads:\n",
      "  Real time             =    0.00 sec. (0.00 ticks)\n",
      "  Sync time (average)   =    0.00 sec.\n",
      "  Wait time (average)   =    0.00 sec.\n",
      "                          ------------\n",
      "Total (root+branch&cut) =    0.02 sec. (0.01 ticks)\n",
      "Cplex status= 101\n"
     ]
    },
    {
     "data": {
      "text/plain": [
       "(2.6666666666666665, 2.666666666666667, 133.33333333333334)"
      ]
     },
     "execution_count": 43,
     "metadata": {},
     "output_type": "execute_result"
    }
   ],
   "source": [
    "# importing pulp library to solver LP\n",
    "from pulp import * \n",
    "\n",
    "prob = LpProblem (\"SimpleLP\", LpMaximize) #model      \n",
    "\n",
    "#variables\n",
    "x1 = LpVariable (\"x1\", lowBound=0) \n",
    "x2 = LpVariable (\"x2\", lowBound=0) \n",
    "\n",
    "# adding our objective function and constraints into the model\n",
    "prob += 30*x1+20*x2 # objective function \n",
    "prob += 2*x1+x2 <= 8 #constraint 1\n",
    "prob += x1 + 2*x2 <= 8  #constraint 2\n",
    "status = prob.solve(CPLEX()) # Uses solver cplex\n",
    "value(x1), value (x2), value(prob.objective)"
   ]
  },
  {
   "cell_type": "code",
   "execution_count": 45,
   "metadata": {},
   "outputs": [
    {
     "data": {
      "text/plain": [
       "(2.666667, 2.666667, 133.33335)"
      ]
     },
     "execution_count": 45,
     "metadata": {},
     "output_type": "execute_result"
    }
   ],
   "source": [
    "# importing pulp library to solver LP\n",
    "from pulp import * \n",
    "\n",
    "prob = LpProblem (\"SimpleLP\", LpMaximize) #model      \n",
    "\n",
    "#variables\n",
    "x1 = LpVariable (\"x1\", lowBound=0) \n",
    "x2 = LpVariable (\"x2\", lowBound=0) \n",
    "\n",
    "# adding our objective function and constraints into the model\n",
    "prob += 30*x1+20*x2 # objective function \n",
    "prob += 2*x1+x2 <= 8 #constraint 1\n",
    "prob += x1 + 2*x2 <= 8  #constraint 2\n",
    "status = prob.solve((pulp.XPRESS(msg=True, keepFiles=True))) # Uses xpress solver \n",
    "value(x1), value (x2), value(prob.objective)"
   ]
  },
  {
   "cell_type": "code",
   "execution_count": 44,
   "metadata": {},
   "outputs": [
    {
     "name": "stdout",
     "output_type": "stream",
     "text": [
      "Optimize a model with 2 rows, 2 columns and 4 nonzeros\n",
      "Coefficient statistics:\n",
      "  Matrix range     [1e+00, 2e+00]\n",
      "  Objective range  [2e+01, 3e+01]\n",
      "  Bounds range     [0e+00, 0e+00]\n",
      "  RHS range        [8e+00, 8e+00]\n",
      "Presolve time: 0.02s\n",
      "Presolved: 2 rows, 2 columns, 4 nonzeros\n",
      "\n",
      "Iteration    Objective       Primal Inf.    Dual Inf.      Time\n",
      "       0    5.0000000e+31   3.000000e+30   5.000000e+01      0s\n",
      "       2    1.3333333e+02   0.000000e+00   0.000000e+00      0s\n",
      "\n",
      "Solved in 2 iterations and 0.02 seconds\n",
      "Optimal objective  1.333333333e+02\n",
      "Gurobi status= 2\n"
     ]
    },
    {
     "data": {
      "text/plain": [
       "(2.666666666666667, 2.6666666666666665, 133.33333333333334)"
      ]
     },
     "execution_count": 44,
     "metadata": {},
     "output_type": "execute_result"
    }
   ],
   "source": [
    "# importing pulp library to solver LP\n",
    "from pulp import * \n",
    "\n",
    "prob = LpProblem (\"SimpleLP\", LpMaximize) #model      \n",
    "\n",
    "#variables\n",
    "x1 = LpVariable (\"x1\", lowBound=0) \n",
    "x2 = LpVariable (\"x2\", lowBound=0) \n",
    "\n",
    "# adding our objective function and constraints into the model\n",
    "prob += 30*x1+20*x2 # objective function \n",
    "prob += 2*x1+x2 <= 8 #constraint 1\n",
    "prob += x1 + 2*x2 <= 8  #constraint 2\n",
    "status = prob.solve(GUROBI()) # Uses solver GUROBI\n",
    "value(x1), value (x2), value(prob.objective)"
   ]
  },
  {
   "cell_type": "code",
   "execution_count": 7,
   "metadata": {},
   "outputs": [],
   "source": [
    "from gurobipy import * "
   ]
  },
  {
   "cell_type": "code",
   "execution_count": 8,
   "metadata": {},
   "outputs": [
    {
     "name": "stdout",
     "output_type": "stream",
     "text": [
      "Optimize a model with 2 rows, 2 columns and 4 nonzeros\n",
      "Coefficient statistics:\n",
      "  Matrix range     [1e+00, 2e+00]\n",
      "  Objective range  [2e+01, 3e+01]\n",
      "  Bounds range     [0e+00, 0e+00]\n",
      "  RHS range        [8e+00, 8e+00]\n",
      "Presolve time: 0.01s\n",
      "Presolved: 2 rows, 2 columns, 4 nonzeros\n",
      "\n",
      "Iteration    Objective       Primal Inf.    Dual Inf.      Time\n",
      "       0    5.0000000e+31   3.000000e+30   5.000000e+01      0s\n",
      "       2    1.3333333e+02   0.000000e+00   0.000000e+00      0s\n",
      "\n",
      "Solved in 2 iterations and 0.02 seconds\n",
      "Optimal objective  1.333333333e+02\n",
      "<gurobi.Var x1 (value 2.6666666666666665)> <gurobi.Var x2 (value 2.666666666666667)> Obj: 133.333\n"
     ]
    }
   ],
   "source": [
    "md3 = Model('simplelp')\n",
    "x1 = md3.addVar(name='x1')      # Using Gurobi\n",
    "x2 = md3.addVar(name='x2')\n",
    "md3.addConstr(x1+2*x2 <= 8)\n",
    "md3.addConstr(2*x1+x2 <= 8)\n",
    "obj = 30*x1+20*x2  \n",
    "md3.setObjective(obj,GRB.MAXIMIZE)\n",
    "md3.optimize()\n",
    "print(x1,x2,'Obj: %g' % md3.objVal)"
   ]
  },
  {
   "cell_type": "code",
   "execution_count": 9,
   "metadata": {},
   "outputs": [
    {
     "name": "stdout",
     "output_type": "stream",
     "text": [
      "Using the Community license in this session. If you have a full Xpress license,\n",
      "first set the XPRESS environment variable to the directory containing the license file,\n",
      "xpauth.xpr, and then restart Python. If you want to use the FICO Community license\n",
      "and no longer want to see this message, set the XPRESS environment variable to\n",
      " C:\\Users\\baral\\Anaconda3\\lib\\site-packages\\xpress/license\n"
     ]
    }
   ],
   "source": [
    "import xpress as xp"
   ]
  },
  {
   "cell_type": "code",
   "execution_count": 10,
   "metadata": {},
   "outputs": [
    {
     "name": "stdout",
     "output_type": "stream",
     "text": [
      "[2.666666666666667, 2.6666666666666665]\n"
     ]
    }
   ],
   "source": [
    "p = xp.problem () \n",
    "x1 = xp.var(lb=0,ub=xp.infinity)\n",
    "x2 = xp.var(lb=0,ub=xp.infinity)\n",
    "p.addVariable(x1,x2)\n",
    "p.setObjective(-(30*x1+20*x2))\n",
    "p.addConstraint(x1+2*x2<=8)\n",
    "p.addConstraint(2*x1+x2<=8)\n",
    "p.solve()\n",
    "print (p.getSolution())"
   ]
  },
  {
   "cell_type": "markdown",
   "metadata": {},
   "source": [
    "## Integer Programming Using PuLP"
   ]
  },
  {
   "cell_type": "code",
   "execution_count": 1,
   "metadata": {},
   "outputs": [
    {
     "name": "stdout",
     "output_type": "stream",
     "text": [
      "CPXPARAM_Read_DataCheck                          1\n",
      "Found incumbent of value 0.000000 after 0.02 sec. (0.00 ticks)\n",
      "Tried aggregator 1 time.\n",
      "Reduced MIP has 2 rows, 2 columns, and 4 nonzeros.\n",
      "Reduced MIP has 0 binaries, 2 generals, 0 SOSs, and 0 indicators.\n",
      "Presolve time = 0.01 sec. (0.00 ticks)\n",
      "Tried aggregator 1 time.\n",
      "Reduced MIP has 2 rows, 2 columns, and 4 nonzeros.\n",
      "Reduced MIP has 0 binaries, 2 generals, 0 SOSs, and 0 indicators.\n",
      "Presolve time = 0.00 sec. (0.00 ticks)\n",
      "MIP emphasis: balance optimality and feasibility.\n",
      "MIP search method: dynamic search.\n",
      "Parallel mode: deterministic, using up to 8 threads.\n",
      "Root relaxation solution time = 0.00 sec. (0.00 ticks)\n",
      "\n",
      "        Nodes                                         Cuts/\n",
      "   Node  Left     Objective  IInf  Best Integer    Best Bound    ItCnt     Gap\n",
      "\n",
      "*     0+    0                            0.0000      200.0000              --- \n",
      "      0     0      133.3333     2        0.0000      133.3333        2     --- \n",
      "*     0+    0                          130.0000      133.3333             2.56%\n",
      "      0     0        cutoff            130.0000      133.3333        2    2.56%\n",
      "Elapsed time = 0.09 sec. (0.02 ticks, tree = 0.01 MB, solutions = 2)\n",
      "\n",
      "Root node processing (before b&c):\n",
      "  Real time             =    0.09 sec. (0.02 ticks)\n",
      "Parallel b&c, 8 threads:\n",
      "  Real time             =    0.00 sec. (0.00 ticks)\n",
      "  Sync time (average)   =    0.00 sec.\n",
      "  Wait time (average)   =    0.00 sec.\n",
      "                          ------------\n",
      "Total (root+branch&cut) =    0.09 sec. (0.02 ticks)\n",
      "Cplex status= 101\n"
     ]
    },
    {
     "data": {
      "text/plain": [
       "(3.0, 2.0, 130.0)"
      ]
     },
     "execution_count": 1,
     "metadata": {},
     "output_type": "execute_result"
    }
   ],
   "source": [
    "from pulp import *\n",
    "\n",
    "prob = LpProblem (\"SimpleIP\", LpMaximize)       \n",
    "\n",
    "x1 = LpVariable (\"x1\", lowBound=0, cat='Integer')\n",
    "x2 = LpVariable (\"x2\", lowBound=0, cat='Integer')\n",
    "\n",
    "prob += 30*x1+20*x2 \n",
    "prob += 2*x1+x2 <= 8\n",
    "prob += x1 + 2*x2 <= 8\n",
    "status = prob.solve(CPLEX())\n",
    "value(x1), value (x2), value(prob.objective)"
   ]
  },
  {
   "cell_type": "code",
   "execution_count": 44,
   "metadata": {},
   "outputs": [
    {
     "name": "stdout",
     "output_type": "stream",
     "text": [
      "Optimize a model with 2 rows, 2 columns and 4 nonzeros\n",
      "Variable types: 0 continuous, 2 integer (0 binary)\n",
      "Coefficient statistics:\n",
      "  Matrix range     [1e+00, 2e+00]\n",
      "  Objective range  [2e+01, 3e+01]\n",
      "  Bounds range     [0e+00, 0e+00]\n",
      "  RHS range        [8e+00, 8e+00]\n",
      "Found heuristic solution: objective 120.0000000\n",
      "Presolve time: 0.00s\n",
      "Presolved: 2 rows, 2 columns, 4 nonzeros\n",
      "Variable types: 0 continuous, 2 integer (0 binary)\n",
      "\n",
      "Root relaxation: objective 1.333333e+02, 2 iterations, 0.00 seconds\n",
      "\n",
      "    Nodes    |    Current Node    |     Objective Bounds      |     Work\n",
      " Expl Unexpl |  Obj  Depth IntInf | Incumbent    BestBd   Gap | It/Node Time\n",
      "\n",
      "*    0     0               0     130.0000000  130.00000  0.00%     -    0s\n",
      "\n",
      "Explored 0 nodes (3 simplex iterations) in 0.01 seconds\n",
      "Thread count was 8 (of 8 available processors)\n",
      "\n",
      "Solution count 2: 130 120 \n",
      "\n",
      "Optimal solution found (tolerance 1.00e-04)\n",
      "Best objective 1.300000000000e+02, best bound 1.300000000000e+02, gap 0.0000%\n",
      "Gurobi status= 2\n"
     ]
    },
    {
     "data": {
      "text/plain": [
       "(3.0, 2.0, 130.0)"
      ]
     },
     "execution_count": 44,
     "metadata": {},
     "output_type": "execute_result"
    }
   ],
   "source": [
    "from pulp import *\n",
    "\n",
    "prob = LpProblem (\"SimpleIP\", LpMaximize)        # Using GUROBI\n",
    "\n",
    "x1 = LpVariable (\"x1\", lowBound=0, cat='Integer')\n",
    "x2 = LpVariable (\"x2\", lowBound=0, cat='Integer')\n",
    "\n",
    "prob += 30*x1+20*x2 \n",
    "prob += 2*x1+x2 <= 8\n",
    "prob += x1 + 2*x2 <= 8\n",
    "status = prob.solve(GUROBI())\n",
    "value(x1), value (x2), value(prob.objective)"
   ]
  },
  {
   "cell_type": "code",
   "execution_count": 46,
   "metadata": {},
   "outputs": [
    {
     "data": {
      "text/plain": [
       "(3.0, 2.0, 130.0)"
      ]
     },
     "execution_count": 46,
     "metadata": {},
     "output_type": "execute_result"
    }
   ],
   "source": [
    "from pulp import *\n",
    "\n",
    "prob = LpProblem (\"SimpleIP\", LpMaximize)        \n",
    "\n",
    "x1 = LpVariable (\"x1\", lowBound=0, cat='Integer')\n",
    "x2 = LpVariable (\"x2\", lowBound=0, cat='Integer')\n",
    "\n",
    "prob += 30*x1+20*x2 \n",
    "prob += 2*x1+x2 <= 8\n",
    "prob += x1 + 2*x2 <= 8\n",
    "status = prob.solve(pulp.XPRESS(msg=True, keepFiles=True))\n",
    "value(x1), value (x2), value(prob.objective)"
   ]
  },
  {
   "cell_type": "code",
   "execution_count": 8,
   "metadata": {},
   "outputs": [
    {
     "name": "stdout",
     "output_type": "stream",
     "text": [
      "Collecting package metadata (repodata.json): ...working... done\n",
      "Solving environment: ...working... \n",
      "The environment is inconsistent, please check the package plan carefully\n",
      "The following packages are causing the inconsistency:\n",
      "\n",
      "  - defaults/win-64::anaconda==2019.03=py37_0\n",
      "  - defaults/win-64::numba==0.43.1=py37hf9181ef_0\n",
      "done\n",
      "\n",
      "## Package Plan ##\n",
      "\n",
      "  environment location: C:\\Users\\baral\\Anaconda3\n",
      "\n",
      "  added / updated specs:\n",
      "    - pyomo.extras\n",
      "\n",
      "\n",
      "The following packages will be downloaded:\n",
      "\n",
      "    package                    |            build\n",
      "    ---------------------------|-----------------\n",
      "    _anaconda_depends-2019.03  |           py37_0           5 KB\n",
      "    anaconda-custom            |           py37_1           2 KB\n",
      "    ca-certificates-2019.6.16  |       hecc5488_0         183 KB  conda-forge\n",
      "    certifi-2019.6.16          |           py37_1         149 KB  conda-forge\n",
      "    dill-0.3.0                 |           py37_0         135 KB  conda-forge\n",
      "    openssl-1.1.1c             |       hfa6e2cd_0         4.7 MB  conda-forge\n",
      "    pymysql-0.9.3              |             py_0          41 KB  conda-forge\n",
      "    pyomo.extras-3.3           |      py37_182212           2 KB  conda-forge\n",
      "    pyro4-4.76                 |             py_0          66 KB  conda-forge\n",
      "    serpent-1.28               |             py_0          13 KB  conda-forge\n",
      "    tbb-2019.7                 |       he980bc4_0         161 KB  conda-forge\n",
      "    ------------------------------------------------------------\n",
      "                                           Total:         5.5 MB\n",
      "\n",
      "The following NEW packages will be INSTALLED:\n",
      "\n",
      "  _anaconda_depends  pkgs/main/win-64::_anaconda_depends-2019.03-py37_0\n",
      "  dill               conda-forge/win-64::dill-0.3.0-py37_0\n",
      "  pymysql            conda-forge/noarch::pymysql-0.9.3-py_0\n",
      "  pyomo.extras       conda-forge/win-64::pyomo.extras-3.3-py37_182212\n",
      "  pyro4              conda-forge/noarch::pyro4-4.76-py_0\n",
      "  serpent            conda-forge/noarch::serpent-1.28-py_0\n",
      "  tbb                conda-forge/win-64::tbb-2019.7-he980bc4_0\n",
      "\n",
      "The following packages will be UPDATED:\n",
      "\n",
      "  ca-certificates    pkgs/main::ca-certificates-2019.1.23-0 --> conda-forge::ca-certificates-2019.6.16-hecc5488_0\n",
      "  certifi                                   2019.3.9-py37_0 --> 2019.6.16-py37_1\n",
      "  openssl              pkgs/main::openssl-1.1.1b-he774522_1 --> conda-forge::openssl-1.1.1c-hfa6e2cd_0\n",
      "\n",
      "The following packages will be DOWNGRADED:\n",
      "\n",
      "  anaconda                                   2019.03-py37_0 --> custom-py37_1\n",
      "\n",
      "\n",
      "\n",
      "Downloading and Extracting Packages\n",
      "\n",
      "_anaconda_depends-20 | 5 KB      |            |   0% \n",
      "_anaconda_depends-20 | 5 KB      | ########## | 100% \n",
      "\n",
      "certifi-2019.6.16    | 149 KB    |            |   0% \n",
      "certifi-2019.6.16    | 149 KB    | #          |  11% \n",
      "certifi-2019.6.16    | 149 KB    | ########## | 100% \n",
      "\n",
      "tbb-2019.7           | 161 KB    |            |   0% \n",
      "tbb-2019.7           | 161 KB    | ######9    |  70% \n",
      "tbb-2019.7           | 161 KB    | ########## | 100% \n",
      "\n",
      "anaconda-custom      | 2 KB      |            |   0% \n",
      "anaconda-custom      | 2 KB      | ########## | 100% \n",
      "\n",
      "pymysql-0.9.3        | 41 KB     |            |   0% \n",
      "pymysql-0.9.3        | 41 KB     | ###8       |  39% \n",
      "pymysql-0.9.3        | 41 KB     | ########## | 100% \n",
      "\n",
      "pyro4-4.76           | 66 KB     |            |   0% \n",
      "pyro4-4.76           | 66 KB     | ##4        |  24% \n",
      "pyro4-4.76           | 66 KB     | ########## | 100% \n",
      "\n",
      "ca-certificates-2019 | 183 KB    |            |   0% \n",
      "ca-certificates-2019 | 183 KB    | ########## | 100% \n",
      "\n",
      "pyomo.extras-3.3     | 2 KB      |            |   0% \n",
      "pyomo.extras-3.3     | 2 KB      | ########## | 100% \n",
      "\n",
      "serpent-1.28         | 13 KB     |            |   0% \n",
      "serpent-1.28         | 13 KB     | ########## | 100% \n",
      "\n",
      "dill-0.3.0           | 135 KB    |            |   0% \n",
      "dill-0.3.0           | 135 KB    | #1         |  12% \n",
      "dill-0.3.0           | 135 KB    | ########## | 100% \n",
      "\n",
      "openssl-1.1.1c       | 4.7 MB    |            |   0% \n",
      "openssl-1.1.1c       | 4.7 MB    | 5          |   6% \n",
      "openssl-1.1.1c       | 4.7 MB    | #8         |  18% \n",
      "openssl-1.1.1c       | 4.7 MB    | ###5       |  35% \n",
      "openssl-1.1.1c       | 4.7 MB    | ####3      |  44% \n",
      "openssl-1.1.1c       | 4.7 MB    | ######3    |  64% \n",
      "openssl-1.1.1c       | 4.7 MB    | #######7   |  77% \n",
      "openssl-1.1.1c       | 4.7 MB    | #########1 |  91% \n",
      "openssl-1.1.1c       | 4.7 MB    | ########## | 100% \n",
      "Preparing transaction: ...working... done\n",
      "Verifying transaction: ...working... done\n",
      "Executing transaction: ...working... done\n",
      "\n",
      "Note: you may need to restart the kernel to use updated packages.\n"
     ]
    }
   ],
   "source": [
    "conda install -c conda-forge pyomo.extras"
   ]
  },
  {
   "cell_type": "code",
   "execution_count": 47,
   "metadata": {},
   "outputs": [
    {
     "name": "stdout",
     "output_type": "stream",
     "text": [
      "Requirement already satisfied: pyomo in c:\\users\\baral\\anaconda3\\lib\\site-packages (5.6.6)\n",
      "Requirement already satisfied: PyUtilib>=5.7.1 in c:\\users\\baral\\anaconda3\\lib\\site-packages (from pyomo) (5.7.1)\n",
      "Requirement already satisfied: six>=1.4 in c:\\users\\baral\\anaconda3\\lib\\site-packages (from pyomo) (1.12.0)\n",
      "Requirement already satisfied: ply in c:\\users\\baral\\anaconda3\\lib\\site-packages (from pyomo) (3.11)\n",
      "Requirement already satisfied: appdirs in c:\\users\\baral\\anaconda3\\lib\\site-packages (from pyomo) (1.4.3)\n",
      "Requirement already satisfied: nose in c:\\users\\baral\\anaconda3\\lib\\site-packages (from PyUtilib>=5.7.1->pyomo) (1.3.7)\n",
      "Note: you may need to restart the kernel to use updated packages.\n"
     ]
    }
   ],
   "source": [
    "pip install pyomo"
   ]
  },
  {
   "cell_type": "markdown",
   "metadata": {},
   "source": [
    "## Linear Programming Using Pyomo"
   ]
  },
  {
   "cell_type": "code",
   "execution_count": 3,
   "metadata": {},
   "outputs": [
    {
     "name": "stdout",
     "output_type": "stream",
     "text": [
      "Status = optimal\n",
      "x1 = 2.666667\n",
      "x2 = 2.666667\n",
      "Objective = -133.333333\n"
     ]
    }
   ],
   "source": [
    "# importing module pyomo.environ is necessary\n",
    "from pyomo.environ import * \n",
    "\n",
    "#using ConcreteModel() to create the model\n",
    "m = ConcreteModel() \n",
    "\n",
    "#variables\n",
    "m.x1 = Var(bounds=(0,None))\n",
    "m.x2 = Var(bounds=(0,None))\n",
    "\n",
    "# Setting Objective Function\n",
    "m.o = Objective(expr=-(30*m.x1+20*m.x2))\n",
    "\n",
    "# Setting Constraints\n",
    "m.c1 = Constraint(expr=m.x1+2*m.x2 <= 8) \n",
    "m.c2 = Constraint(expr=2*m.x1+m.x2 <= 8)\n",
    "solver = SolverFactory('glpk') # Calling the solver glpk\n",
    "status = solver.solve(m) # Solve\n",
    "\n",
    "print(\"Status = %s\" % status.solver.termination_condition)\n",
    "\n",
    "# solution\n",
    "print(\"%s = %f\" % (m.x1, value(m.x1)))\n",
    "print(\"%s = %f\" % (m.x2, value(m.x2)))\n",
    "print(\"Objective = %f\" % value(m.o))"
   ]
  },
  {
   "cell_type": "code",
   "execution_count": 7,
   "metadata": {},
   "outputs": [
    {
     "name": "stdout",
     "output_type": "stream",
     "text": [
      "Status = optimal\n",
      "x1 = 2.666667\n",
      "x2 = 2.666667\n",
      "Objective = -133.333333\n"
     ]
    }
   ],
   "source": [
    "# importing module pyomo.environ is necessary\n",
    "from pyomo.environ import * \n",
    "\n",
    "#using ConcreteModel() to create the model\n",
    "m = ConcreteModel() \n",
    "\n",
    "#variables\n",
    "m.x1 = Var(bounds=(0,None))\n",
    "m.x2 = Var(bounds=(0,None))\n",
    "\n",
    "# Setting Objective Function\n",
    "m.o = Objective(expr=-(30*m.x1+20*m.x2))\n",
    "\n",
    "# Setting Constraints\n",
    "m.c1 = Constraint(expr=m.x1+2*m.x2 <= 8) \n",
    "m.c2 = Constraint(expr=2*m.x1+m.x2 <= 8)\n",
    "solver = SolverFactory('cplex') # Calling the solver cplex\n",
    "status = solver.solve(m) # Solve\n",
    "\n",
    "print(\"Status = %s\" % status.solver.termination_condition)\n",
    "\n",
    "# solution\n",
    "print(\"%s = %f\" % (m.x1, value(m.x1)))\n",
    "print(\"%s = %f\" % (m.x2, value(m.x2)))\n",
    "print(\"Objective = %f\" % value(m.o))"
   ]
  },
  {
   "cell_type": "code",
   "execution_count": 8,
   "metadata": {},
   "outputs": [
    {
     "name": "stdout",
     "output_type": "stream",
     "text": [
      "Status = optimal\n",
      "x1 = 2.666667\n",
      "x2 = 2.666667\n",
      "Objective = -133.333333\n"
     ]
    }
   ],
   "source": [
    "# importing module pyomo.environ is necessary\n",
    "from pyomo.environ import *  \n",
    "\n",
    "#using ConcreteModel() to create the model\n",
    "m = ConcreteModel() \n",
    "\n",
    "#variables\n",
    "m.x1 = Var(bounds=(0,None))\n",
    "m.x2 = Var(bounds=(0,None))\n",
    "# Setting Objective Function\n",
    "m.o = Objective(expr=-(30*m.x1+20*m.x2)) \n",
    "# Setting Constraints\n",
    "m.c1 = Constraint(expr=m.x1+2*m.x2 <= 8) \n",
    "m.c2 = Constraint(expr=2*m.x1+m.x2 <= 8) \n",
    "\n",
    "solver = SolverFactory('gurobi') # calling the solver gurobi\n",
    "status = solver.solve(m) # solve it\n",
    "\n",
    "print(\"Status = %s\" % status.solver.termination_condition)\n",
    "\n",
    "#solution\n",
    "print(\"%s = %f\" % (m.x1, value(m.x1)))\n",
    "print(\"%s = %f\" % (m.x2, value(m.x2)))\n",
    "print(\"Objective = %f\" % value(m.o))"
   ]
  },
  {
   "cell_type": "code",
   "execution_count": 9,
   "metadata": {},
   "outputs": [
    {
     "name": "stdout",
     "output_type": "stream",
     "text": [
      "Status = unknown\n",
      "x1 = 2.666667\n",
      "x2 = 2.666667\n",
      "Objective = -133.333333\n"
     ]
    }
   ],
   "source": [
    "# importing module pyomo.environ is necessary\n",
    "from pyomo.environ import *  \n",
    "\n",
    "#using ConcreteModel() to create the model\n",
    "m = ConcreteModel() \n",
    "\n",
    "#variables\n",
    "m.x1 = Var(bounds=(0,None))\n",
    "m.x2 = Var(bounds=(0,None))\n",
    "# Setting Objective Function\n",
    "m.o = Objective(expr=-(30*m.x1+20*m.x2)) \n",
    "# Setting Constraints\n",
    "m.c1 = Constraint(expr=m.x1+2*m.x2 <= 8) \n",
    "m.c2 = Constraint(expr=2*m.x1+m.x2 <= 8) \n",
    "\n",
    "solver = SolverFactory('xpress') # calling the solver xpress\n",
    "status = solver.solve(m) # solve it\n",
    "\n",
    "print(\"Status = %s\" % status.solver.termination_condition)\n",
    "\n",
    "#solution\n",
    "print(\"%s = %f\" % (m.x1, value(m.x1)))\n",
    "print(\"%s = %f\" % (m.x2, value(m.x2)))\n",
    "print(\"Objective = %f\" % value(m.o))"
   ]
  },
  {
   "cell_type": "markdown",
   "metadata": {},
   "source": [
    "## Integer Programming Using Pyomo"
   ]
  },
  {
   "cell_type": "code",
   "execution_count": 21,
   "metadata": {},
   "outputs": [
    {
     "name": "stdout",
     "output_type": "stream",
     "text": [
      "Status = optimal\n",
      "x1 = 3.000000\n",
      "x2 = 2.000000\n",
      "Objective = -130.000000\n"
     ]
    }
   ],
   "source": [
    "# importing module pyomo.environ is necessary\n",
    "from pyomo.environ import *\n",
    "\n",
    "#using ConcreteModel() to create the model\n",
    "m = ConcreteModel()\n",
    "\n",
    "#variables restricted to integers\n",
    "m.x1 = Var(bounds=(0,None),within=NonNegativeIntegers)\n",
    "m.x2 = Var(bounds=(0,None),within=NonNegativeIntegers)\n",
    "# Setting Objective Function\n",
    "m.o = Objective(expr=-(30*m.x1+20*m.x2))\n",
    "# Setting Constraints\n",
    "m.c1 = Constraint(expr=m.x1+2*m.x2 <= 8)\n",
    "m.c2 = Constraint(expr=2*m.x1+m.x2 <= 8)\n",
    "# calling the solver cplex\n",
    "solver = SolverFactory('cplex') \n",
    "# solve it\n",
    "status = solver.solve(m) \n",
    "print(\"Status = %s\" % status.solver.termination_condition)\n",
    "# solution\n",
    "print(\"%s = %f\" % (m.x1, value(m.x1)))\n",
    "print(\"%s = %f\" % (m.x2, value(m.x2)))\n",
    "print(\"Objective = %f\" % value(m.o))"
   ]
  },
  {
   "cell_type": "code",
   "execution_count": 10,
   "metadata": {},
   "outputs": [
    {
     "name": "stdout",
     "output_type": "stream",
     "text": [
      "Status = optimal\n",
      "x1 = 3.000000\n",
      "x2 = 2.000000\n",
      "Objective = -130.000000\n"
     ]
    }
   ],
   "source": [
    "# importing module pyomo.environ is necessary\n",
    "from pyomo.environ import *\n",
    "\n",
    "#using ConcreteModel() to create the model\n",
    "m = ConcreteModel()\n",
    "\n",
    "#variables restricted to integers\n",
    "m.x1 = Var(bounds=(0,None),within=NonNegativeIntegers)\n",
    "m.x2 = Var(bounds=(0,None),within=NonNegativeIntegers)\n",
    "# Setting Objective Function\n",
    "m.o = Objective(expr=-(30*m.x1+20*m.x2))\n",
    "# Setting Constraints\n",
    "m.c1 = Constraint(expr=m.x1+2*m.x2 <= 8)\n",
    "m.c2 = Constraint(expr=2*m.x1+m.x2 <= 8)\n",
    "# calling the solver gurobi\n",
    "solver = SolverFactory('gurobi') \n",
    "# solve it\n",
    "status = solver.solve(m) \n",
    "print(\"Status = %s\" % status.solver.termination_condition)\n",
    "# solution\n",
    "print(\"%s = %f\" % (m.x1, value(m.x1)))\n",
    "print(\"%s = %f\" % (m.x2, value(m.x2)))\n",
    "print(\"Objective = %f\" % value(m.o))"
   ]
  },
  {
   "cell_type": "markdown",
   "metadata": {},
   "source": [
    "## Quadratic Programs Using Pyomo"
   ]
  },
  {
   "cell_type": "code",
   "execution_count": 11,
   "metadata": {},
   "outputs": [
    {
     "name": "stdout",
     "output_type": "stream",
     "text": [
      "Status = optimal\n",
      "x1 = 0.500000\n",
      "x2 = 1.000000\n",
      "Objective = 11.250000\n"
     ]
    }
   ],
   "source": [
    "# importing module pyomo.environ is necessary\n",
    "from pyomo.environ import *\n",
    "#using ConcreteModel() to create the model\n",
    "m = ConcreteModel()\n",
    "#variables\n",
    "m.x1 = Var(bounds=(0,None))\n",
    "m.x2 = Var(bounds=(0,None))\n",
    "#setting objective function\n",
    "m.o = Objective(expr=3*m.x1*m.x1+m.x2*m.x2+2*m.x1*m.x2+m.x1+6*m.x2+2)\n",
    "#setting a constraint\n",
    "m.c = Constraint(expr=2*m.x1+3*m.x2 >= 4)\n",
    "# calling the solver cplex\n",
    "solver = SolverFactory('cplex')\n",
    "#solve it\n",
    "status = solver.solve(m)\n",
    "\n",
    "print(\"Status = %s\" % status.solver.termination_condition)\n",
    "#solution\n",
    "print(\"%s = %f\" % (m.x1, value(m.x1)))\n",
    "print(\"%s = %f\" % (m.x2, value(m.x2)))\n",
    "print(\"Objective = %f\" % value(m.o))"
   ]
  },
  {
   "cell_type": "code",
   "execution_count": 12,
   "metadata": {},
   "outputs": [
    {
     "name": "stdout",
     "output_type": "stream",
     "text": [
      "Status = optimal\n",
      "x1 = 0.500000\n",
      "x2 = 1.000000\n",
      "Objective = 11.250000\n"
     ]
    }
   ],
   "source": [
    "# importing module pyomo.environ is necessary\n",
    "from pyomo.environ import *\n",
    "#using ConcreteModel() to create the model\n",
    "m = ConcreteModel()\n",
    "#variables\n",
    "m.x1 = Var(bounds=(0,None))\n",
    "m.x2 = Var(bounds=(0,None))\n",
    "#setting objective function\n",
    "m.o = Objective(expr=3*m.x1*m.x1+m.x2*m.x2+2*m.x1*m.x2+m.x1+6*m.x2+2)\n",
    "#setting a constraint\n",
    "m.c = Constraint(expr=2*m.x1+3*m.x2 >= 4)\n",
    "# calling the solver gurobi\n",
    "solver = SolverFactory('gurobi')\n",
    "#solve it\n",
    "status = solver.solve(m)\n",
    "\n",
    "print(\"Status = %s\" % status.solver.termination_condition)\n",
    "#solution\n",
    "print(\"%s = %f\" % (m.x1, value(m.x1)))\n",
    "print(\"%s = %f\" % (m.x2, value(m.x2)))\n",
    "print(\"Objective = %f\" % value(m.o))"
   ]
  },
  {
   "cell_type": "code",
   "execution_count": 13,
   "metadata": {},
   "outputs": [
    {
     "name": "stdout",
     "output_type": "stream",
     "text": [
      "Status = unknown\n",
      "x1 = 0.500015\n",
      "x2 = 0.999990\n",
      "Objective = 11.250001\n"
     ]
    }
   ],
   "source": [
    "# importing module pyomo.environ is necessary\n",
    "from pyomo.environ import *\n",
    "#using ConcreteModel() to create the model\n",
    "m = ConcreteModel()\n",
    "#variables\n",
    "m.x1 = Var(bounds=(0,None))\n",
    "m.x2 = Var(bounds=(0,None))\n",
    "#setting objective function\n",
    "m.o = Objective(expr=3*m.x1*m.x1+m.x2*m.x2+2*m.x1*m.x2+m.x1+6*m.x2+2)\n",
    "#setting a constraint\n",
    "m.c = Constraint(expr=2*m.x1+3*m.x2 >= 4)\n",
    "# calling the solver xpress\n",
    "solver = SolverFactory('xpress')\n",
    "#solve it\n",
    "status = solver.solve(m)\n",
    "\n",
    "print(\"Status = %s\" % status.solver.termination_condition)\n",
    "#solution\n",
    "print(\"%s = %f\" % (m.x1, value(m.x1)))\n",
    "print(\"%s = %f\" % (m.x2, value(m.x2)))\n",
    "print(\"Objective = %f\" % value(m.o))"
   ]
  },
  {
   "cell_type": "markdown",
   "metadata": {},
   "source": [
    " ## Nonliner Programming Using Pyomo"
   ]
  },
  {
   "cell_type": "code",
   "execution_count": 29,
   "metadata": {},
   "outputs": [
    {
     "name": "stdout",
     "output_type": "stream",
     "text": [
      "Collecting package metadata (repodata.json): ...working... done\n",
      "Solving environment: ...working... done\n",
      "\n",
      "## Package Plan ##\n",
      "\n",
      "  environment location: C:\\Users\\baral\\Anaconda3\n",
      "\n",
      "  added / updated specs:\n",
      "    - ipopt\n",
      "\n",
      "\n",
      "The following packages will be downloaded:\n",
      "\n",
      "    package                    |            build\n",
      "    ---------------------------|-----------------\n",
      "    conda-4.7.12               |           py37_0         3.0 MB  conda-forge\n",
      "    ipopt-3.11.1               |                2         8.6 MB  conda-forge\n",
      "    ------------------------------------------------------------\n",
      "                                           Total:        11.6 MB\n",
      "\n",
      "The following NEW packages will be INSTALLED:\n",
      "\n",
      "  ipopt              conda-forge/win-64::ipopt-3.11.1-2\n",
      "\n",
      "The following packages will be UPDATED:\n",
      "\n",
      "  conda                                       4.7.11-py37_0 --> 4.7.12-py37_0\n",
      "\n",
      "\n",
      "\n",
      "Downloading and Extracting Packages\n",
      "\n",
      "ipopt-3.11.1         | 8.6 MB    |            |   0% \n",
      "ipopt-3.11.1         | 8.6 MB    |            |   0% \n",
      "ipopt-3.11.1         | 8.6 MB    | 4          |   4% \n",
      "ipopt-3.11.1         | 8.6 MB    | #4         |  14% \n",
      "ipopt-3.11.1         | 8.6 MB    | ##4        |  25% \n",
      "ipopt-3.11.1         | 8.6 MB    | ###2       |  32% \n",
      "ipopt-3.11.1         | 8.6 MB    | ####2      |  43% \n",
      "ipopt-3.11.1         | 8.6 MB    | #####4     |  55% \n",
      "ipopt-3.11.1         | 8.6 MB    | ######5    |  66% \n",
      "ipopt-3.11.1         | 8.6 MB    | #######6   |  77% \n",
      "ipopt-3.11.1         | 8.6 MB    | ########6  |  87% \n",
      "ipopt-3.11.1         | 8.6 MB    | #########7 |  97% \n",
      "ipopt-3.11.1         | 8.6 MB    | ########## | 100% \n",
      "\n",
      "conda-4.7.12         | 3.0 MB    |            |   0% \n",
      "conda-4.7.12         | 3.0 MB    | 8          |   9% \n",
      "conda-4.7.12         | 3.0 MB    | ##1        |  22% \n",
      "conda-4.7.12         | 3.0 MB    | ######4    |  64% \n",
      "conda-4.7.12         | 3.0 MB    | #########5 |  95% \n",
      "conda-4.7.12         | 3.0 MB    | ########## | 100% \n",
      "Preparing transaction: ...working... done\n",
      "Verifying transaction: ...working... done\n",
      "Executing transaction: ...working... done\n",
      "\n",
      "Note: you may need to restart the kernel to use updated packages.\n"
     ]
    }
   ],
   "source": [
    "conda install -c conda-forge ipopt"
   ]
  },
  {
   "cell_type": "code",
   "execution_count": 14,
   "metadata": {
    "scrolled": true
   },
   "outputs": [
    {
     "name": "stdout",
     "output_type": "stream",
     "text": [
      "Status = optimal\n",
      "x1 = 0.000000\n",
      "x2 = 3.000000\n",
      "Objective = -6.000000\n"
     ]
    }
   ],
   "source": [
    "# importing module pyomo.environ is necessary\n",
    "from pyomo.environ import *\n",
    "#using ConcreteModel() to create the model\n",
    "m = ConcreteModel()\n",
    "#variables\n",
    "m.x1 = Var(bounds=(0,None))\n",
    "m.x2 = Var(bounds=(0,None))\n",
    "#setting objective function\n",
    "m.o = Objective(expr=-(log(m.x1+1)+2*m.x2))\n",
    "#setting a constraint\n",
    "m.c = Constraint(expr=2*m.x1+m.x2 <= 3)\n",
    "# calling the solver IPOPT\n",
    "solver = SolverFactory('IPOPT')\n",
    "# solve it\n",
    "status = solver.solve(m)\n",
    "\n",
    "print(\"Status = %s\" % status.solver.termination_condition)\n",
    "# solution\n",
    "print(\"%s = %f\" % (m.x1, value(m.x1)))\n",
    "print(\"%s = %f\" % (m.x2, value(m.x2)))\n",
    "print(\"Objective = %f\" % value(m.o))"
   ]
  },
  {
   "cell_type": "markdown",
   "metadata": {},
   "source": [
    "## Semidefinite Problem"
   ]
  },
  {
   "cell_type": "code",
   "execution_count": 23,
   "metadata": {},
   "outputs": [
    {
     "name": "stdout",
     "output_type": "stream",
     "text": [
      "Collecting package metadata (repodata.json): ...working... done\n",
      "Solving environment: ...working... done\n",
      "\n",
      "## Package Plan ##\n",
      "\n",
      "  environment location: C:\\Users\\baral\\Anaconda3\n",
      "\n",
      "  added / updated specs:\n",
      "    - cvxopt\n",
      "\n",
      "\n",
      "The following packages will be UPDATED:\n",
      "\n",
      "  anaconda                                    custom-py37_1 --> 2019.03-py37_0\n",
      "\n",
      "The following packages will be SUPERSEDED by a higher-priority channel:\n",
      "\n",
      "  ca-certificates    conda-forge::ca-certificates-2019.6.1~ --> pkgs/main::ca-certificates-2019.1.23-0\n",
      "  openssl            conda-forge::openssl-1.1.1c-hfa6e2cd_0 --> pkgs/main::openssl-1.1.1b-he774522_1\n",
      "\n",
      "The following packages will be DOWNGRADED:\n",
      "\n",
      "  certifi                                  2019.6.16-py37_1 --> 2019.3.9-py37_0\n",
      "\n",
      "\n",
      "Preparing transaction: ...working... done\n",
      "Verifying transaction: ...working... done\n",
      "Executing transaction: ...working... done\n",
      "\n",
      "Note: you may need to restart the kernel to use updated packages.\n"
     ]
    }
   ],
   "source": [
    "conda install -c conda-forge cvxopt"
   ]
  },
  {
   "cell_type": "markdown",
   "metadata": {},
   "source": [
    "## Semidefinite Programming "
   ]
  },
  {
   "cell_type": "code",
   "execution_count": 41,
   "metadata": {},
   "outputs": [
    {
     "name": "stdout",
     "output_type": "stream",
     "text": [
      "     pcost       dcost       gap    pres   dres   k/t\n",
      " 0: -1.2037e+00 -1.8539e+02  2e+02  2e-16  8e+00  1e+00\n",
      " 1: -1.2937e+00 -6.8551e+00  5e+00  7e-16  3e-01  3e-02\n",
      " 2: -2.8964e+00 -3.7331e+00  7e-01  5e-16  4e-02  5e-02\n",
      " 3: -3.0150e+00 -3.2556e+00  2e-01  3e-16  1e-02  2e-02\n",
      " 4: -3.1389e+00 -3.1932e+00  5e-02  3e-16  3e-03  5e-03\n",
      " 5: -3.1533e+00 -3.1547e+00  1e-03  1e-16  7e-05  1e-04\n",
      " 6: -3.1535e+00 -3.1536e+00  5e-05  2e-16  3e-06  6e-06\n",
      " 7: -3.1535e+00 -3.1535e+00  1e-06  9e-16  7e-08  2e-07\n",
      "Optimal solution found.\n",
      "[-3.68e-01]\n",
      "[ 1.90e+00]\n",
      "[-8.88e-01]\n",
      "\n",
      "[ 3.96e-03 -4.34e-03]\n",
      "[-4.34e-03  4.75e-03]\n",
      "\n",
      "[ 5.58e-02 -2.41e-03  2.42e-02]\n",
      "[-2.41e-03  1.04e-04 -1.05e-03]\n",
      "[ 2.42e-02 -1.05e-03  1.05e-02]\n",
      "\n"
     ]
    }
   ],
   "source": [
    "# importing matrix and solvers from cvxopt is necessary\n",
    "from cvxopt import matrix, solvers \n",
    "# objective function coefficients\n",
    "c = matrix([1.,-1.,1.]) \n",
    "# left-sides of the constraints\n",
    "A = [ matrix([[-7., -11., -11., 3.], \n",
    "              [ 7., -18., -18., 8.],\n",
    "              [-2., -8., -8., 1.]])]\n",
    "              \n",
    "A += [ matrix([[-21., -11., 0., -11., 10., 8., 0., 8., 5.], \n",
    "               [ 0., 10., 16., 10., -10., -10., 16., -10., 3.], \n",
    "               [ -5., 2., -17., 2., -6., 8., -17., 8., 6.]]) ] \n",
    "# Right-sides of the constraints\n",
    "b = [ matrix([[33., -9.], [-9., 26.]]) ]\n",
    "b += [ matrix([[14., 9., 40.], [9., 91., 10.], [40., 10., 15.]]) ] \n",
    "# Calling solver sdp \n",
    "sol = solvers.sdp(c, Gs=A, hs=b) # Gs and hs are the list of length \n",
    "# print out the solution\n",
    "print(sol['x'])\n",
    "print(sol['zs'][0])\n",
    "print(sol['zs'][1])"
   ]
  },
  {
   "cell_type": "code",
   "execution_count": 42,
   "metadata": {},
   "outputs": [
    {
     "name": "stdout",
     "output_type": "stream",
     "text": [
      "Collecting smcp\n",
      "  Downloading https://files.pythonhosted.org/packages/5c/84/c43c79b89631df1e1e7d4f8825bc12a8ed7970e5219f6b9a781edfac4c1a/smcp-0.4.6.tar.gz (64kB)\n",
      "Requirement already satisfied: cvxopt>=1.1.9 in c:\\users\\baral\\anaconda3\\lib\\site-packages (from smcp) (1.2.0)\n",
      "Collecting chompack>=2.3.2 (from smcp)\n",
      "  Downloading https://files.pythonhosted.org/packages/ca/08/8b70ba5e8aa441aa2c198d92d12aea0d9552b966de8c6700e7bd5a15fdad/chompack-2.3.2.tar.gz (83kB)\n",
      "Building wheels for collected packages: smcp, chompack\n",
      "  Building wheel for smcp (setup.py): started\n",
      "  Building wheel for smcp (setup.py): finished with status 'done'\n",
      "  Stored in directory: C:\\Users\\baral\\AppData\\Local\\pip\\Cache\\wheels\\d6\\e5\\7d\\59ad005ef2ae2f3633ebb1c71542a8e50dd2a1cca1ad99a5b9\n",
      "  Building wheel for chompack (setup.py): started\n",
      "  Building wheel for chompack (setup.py): finished with status 'error'\n",
      "  Complete output from command C:\\Users\\baral\\Anaconda3\\python.exe -u -c \"import setuptools, tokenize;__file__='C:\\\\Users\\\\baral\\\\AppData\\\\Local\\\\Temp\\\\pip-install-52g_5qbx\\\\chompack\\\\setup.py';f=getattr(tokenize, 'open', open)(__file__);code=f.read().replace('\\r\\n', '\\n');f.close();exec(compile(code, __file__, 'exec'))\" bdist_wheel -d C:\\Users\\baral\\AppData\\Local\\Temp\\pip-wheel-_gbbeb8f --python-tag cp37:\n",
      "  running bdist_wheel\n",
      "  running build\n",
      "  running build_py\n",
      "  creating build\n",
      "  creating build\\lib.win-amd64-3.7\n",
      "  creating build\\lib.win-amd64-3.7\\chompack\n",
      "  copying src\\python\\base.py -> build\\lib.win-amd64-3.7\\chompack\n",
      "  copying src\\python\\conversion.py -> build\\lib.win-amd64-3.7\\chompack\n",
      "  copying src\\python\\maxchord.py -> build\\lib.win-amd64-3.7\\chompack\n",
      "  copying src\\python\\mcs.py -> build\\lib.win-amd64-3.7\\chompack\n",
      "  copying src\\python\\misc.py -> build\\lib.win-amd64-3.7\\chompack\n",
      "  copying src\\python\\pfcholesky.py -> build\\lib.win-amd64-3.7\\chompack\n",
      "  copying src\\python\\symbolic.py -> build\\lib.win-amd64-3.7\\chompack\n",
      "  copying src\\python\\_version.py -> build\\lib.win-amd64-3.7\\chompack\n",
      "  copying src\\python\\__init__.py -> build\\lib.win-amd64-3.7\\chompack\n",
      "  creating build\\lib.win-amd64-3.7\\chompack\\pybase\n",
      "  copying src\\python\\pybase\\cholesky.py -> build\\lib.win-amd64-3.7\\chompack\\pybase\n",
      "  copying src\\python\\pybase\\completion.py -> build\\lib.win-amd64-3.7\\chompack\\pybase\n",
      "  copying src\\python\\pybase\\edmcompletion.py -> build\\lib.win-amd64-3.7\\chompack\\pybase\n",
      "  copying src\\python\\pybase\\hessian.py -> build\\lib.win-amd64-3.7\\chompack\\pybase\n",
      "  copying src\\python\\pybase\\llt.py -> build\\lib.win-amd64-3.7\\chompack\\pybase\n",
      "  copying src\\python\\pybase\\mrcompletion.py -> build\\lib.win-amd64-3.7\\chompack\\pybase\n",
      "  copying src\\python\\pybase\\plot.py -> build\\lib.win-amd64-3.7\\chompack\\pybase\n",
      "  copying src\\python\\pybase\\projected_inverse.py -> build\\lib.win-amd64-3.7\\chompack\\pybase\n",
      "  copying src\\python\\pybase\\psdcompletion.py -> build\\lib.win-amd64-3.7\\chompack\\pybase\n",
      "  copying src\\python\\pybase\\trmm.py -> build\\lib.win-amd64-3.7\\chompack\\pybase\n",
      "  copying src\\python\\pybase\\trsm.py -> build\\lib.win-amd64-3.7\\chompack\\pybase\n",
      "  copying src\\python\\pybase\\__init__.py -> build\\lib.win-amd64-3.7\\chompack\\pybase\n",
      "  UPDATING build\\lib.win-amd64-3.7\\chompack/_version.py\n",
      "  set build\\lib.win-amd64-3.7\\chompack/_version.py to '2.3.2'\n",
      "  running build_ext\n",
      "  building 'cbase' extension\n",
      "  creating build\\temp.win-amd64-3.7\n",
      "  creating build\\temp.win-amd64-3.7\\Release\n",
      "  creating build\\temp.win-amd64-3.7\\Release\\src\n",
      "  creating build\\temp.win-amd64-3.7\\Release\\src\\C\n",
      "  C:\\Program Files (x86)\\Microsoft Visual Studio\\2019\\Community\\VC\\Tools\\MSVC\\14.21.27702\\bin\\HostX86\\x64\\cl.exe /c /nologo /Ox /W3 /GL /DNDEBUG /MT -IC:\\Users\\baral\\Anaconda3\\include -IC:\\Users\\baral\\Anaconda3\\include \"-IC:\\Program Files (x86)\\Microsoft Visual Studio\\2019\\Community\\VC\\Tools\\MSVC\\14.21.27702\\ATLMFC\\include\" \"-IC:\\Program Files (x86)\\Microsoft Visual Studio\\2019\\Community\\VC\\Tools\\MSVC\\14.21.27702\\include\" \"-IC:\\Program Files (x86)\\Windows Kits\\NETFXSDK\\4.6.1\\include\\um\" \"-IC:\\Program Files (x86)\\Windows Kits\\10\\include\\10.0.17763.0\\ucrt\" \"-IC:\\Program Files (x86)\\Windows Kits\\10\\include\\10.0.17763.0\\shared\" \"-IC:\\Program Files (x86)\\Windows Kits\\10\\include\\10.0.17763.0\\um\" \"-IC:\\Program Files (x86)\\Windows Kits\\10\\include\\10.0.17763.0\\winrt\" \"-IC:\\Program Files (x86)\\Windows Kits\\10\\include\\10.0.17763.0\\cppwinrt\" -IC:\\xpressmp\\include /Tcsrc/C\\cbase.c /Fobuild\\temp.win-amd64-3.7\\Release\\src/C\\cbase.obj\n",
      "  cbase.c\n",
      "  C:\\Program Files (x86)\\Microsoft Visual Studio\\2019\\Community\\VC\\Tools\\MSVC\\14.21.27702\\bin\\HostX86\\x64\\cl.exe /c /nologo /Ox /W3 /GL /DNDEBUG /MT -IC:\\Users\\baral\\Anaconda3\\include -IC:\\Users\\baral\\Anaconda3\\include \"-IC:\\Program Files (x86)\\Microsoft Visual Studio\\2019\\Community\\VC\\Tools\\MSVC\\14.21.27702\\ATLMFC\\include\" \"-IC:\\Program Files (x86)\\Microsoft Visual Studio\\2019\\Community\\VC\\Tools\\MSVC\\14.21.27702\\include\" \"-IC:\\Program Files (x86)\\Windows Kits\\NETFXSDK\\4.6.1\\include\\um\" \"-IC:\\Program Files (x86)\\Windows Kits\\10\\include\\10.0.17763.0\\ucrt\" \"-IC:\\Program Files (x86)\\Windows Kits\\10\\include\\10.0.17763.0\\shared\" \"-IC:\\Program Files (x86)\\Windows Kits\\10\\include\\10.0.17763.0\\um\" \"-IC:\\Program Files (x86)\\Windows Kits\\10\\include\\10.0.17763.0\\winrt\" \"-IC:\\Program Files (x86)\\Windows Kits\\10\\include\\10.0.17763.0\\cppwinrt\" -IC:\\xpressmp\\include /Tcsrc/C\\cholesky.c /Fobuild\\temp.win-amd64-3.7\\Release\\src/C\\cholesky.obj\n",
      "  cholesky.c\n",
      "  src/C\\cholesky.c(27): warning C4244: '=': conversion from 'const Py_ssize_t' to 'int', possible loss of data\n",
      "  src/C\\cholesky.c(28): warning C4244: '=': conversion from 'const Py_ssize_t' to 'int', possible loss of data\n",
      "  src/C\\cholesky.c(29): warning C4244: '=': conversion from 'const Py_ssize_t' to 'int', possible loss of data\n",
      "  src/C\\cholesky.c(41): warning C4244: '=': conversion from 'const Py_ssize_t' to 'int', possible loss of data\n",
      "  src/C\\cholesky.c(45): warning C4244: '=': conversion from 'const Py_ssize_t' to 'int', possible loss of data\n",
      "  src/C\\cholesky.c(46): warning C4244: '=': conversion from 'const Py_ssize_t' to 'int', possible loss of data\n",
      "  C:\\Program Files (x86)\\Microsoft Visual Studio\\2019\\Community\\VC\\Tools\\MSVC\\14.21.27702\\bin\\HostX86\\x64\\cl.exe /c /nologo /Ox /W3 /GL /DNDEBUG /MT -IC:\\Users\\baral\\Anaconda3\\include -IC:\\Users\\baral\\Anaconda3\\include \"-IC:\\Program Files (x86)\\Microsoft Visual Studio\\2019\\Community\\VC\\Tools\\MSVC\\14.21.27702\\ATLMFC\\include\" \"-IC:\\Program Files (x86)\\Microsoft Visual Studio\\2019\\Community\\VC\\Tools\\MSVC\\14.21.27702\\include\" \"-IC:\\Program Files (x86)\\Windows Kits\\NETFXSDK\\4.6.1\\include\\um\" \"-IC:\\Program Files (x86)\\Windows Kits\\10\\include\\10.0.17763.0\\ucrt\" \"-IC:\\Program Files (x86)\\Windows Kits\\10\\include\\10.0.17763.0\\shared\" \"-IC:\\Program Files (x86)\\Windows Kits\\10\\include\\10.0.17763.0\\um\" \"-IC:\\Program Files (x86)\\Windows Kits\\10\\include\\10.0.17763.0\\winrt\" \"-IC:\\Program Files (x86)\\Windows Kits\\10\\include\\10.0.17763.0\\cppwinrt\" -IC:\\xpressmp\\include /Tcsrc/C\\completion.c /Fobuild\\temp.win-amd64-3.7\\Release\\src/C\\completion.obj\n",
      "  completion.c\n",
      "  src/C\\completion.c(26): warning C4244: '=': conversion from 'const Py_ssize_t' to 'int', possible loss of data\n",
      "  src/C\\completion.c(27): warning C4244: '=': conversion from 'const Py_ssize_t' to 'int', possible loss of data\n",
      "  src/C\\completion.c(28): warning C4244: '=': conversion from 'const Py_ssize_t' to 'int', possible loss of data\n",
      "  src/C\\completion.c(29): warning C4244: '=': conversion from 'const Py_ssize_t' to 'int', possible loss of data\n",
      "  src/C\\completion.c(48): warning C4244: '=': conversion from 'const Py_ssize_t' to 'int', possible loss of data\n",
      "  src/C\\completion.c(50): warning C4244: '=': conversion from 'const Py_ssize_t' to 'int', possible loss of data\n",
      "  src/C\\completion.c(51): warning C4244: '=': conversion from 'const Py_ssize_t' to 'int', possible loss of data\n",
      "  C:\\Program Files (x86)\\Microsoft Visual Studio\\2019\\Community\\VC\\Tools\\MSVC\\14.21.27702\\bin\\HostX86\\x64\\cl.exe /c /nologo /Ox /W3 /GL /DNDEBUG /MT -IC:\\Users\\baral\\Anaconda3\\include -IC:\\Users\\baral\\Anaconda3\\include \"-IC:\\Program Files (x86)\\Microsoft Visual Studio\\2019\\Community\\VC\\Tools\\MSVC\\14.21.27702\\ATLMFC\\include\" \"-IC:\\Program Files (x86)\\Microsoft Visual Studio\\2019\\Community\\VC\\Tools\\MSVC\\14.21.27702\\include\" \"-IC:\\Program Files (x86)\\Windows Kits\\NETFXSDK\\4.6.1\\include\\um\" \"-IC:\\Program Files (x86)\\Windows Kits\\10\\include\\10.0.17763.0\\ucrt\" \"-IC:\\Program Files (x86)\\Windows Kits\\10\\include\\10.0.17763.0\\shared\" \"-IC:\\Program Files (x86)\\Windows Kits\\10\\include\\10.0.17763.0\\um\" \"-IC:\\Program Files (x86)\\Windows Kits\\10\\include\\10.0.17763.0\\winrt\" \"-IC:\\Program Files (x86)\\Windows Kits\\10\\include\\10.0.17763.0\\cppwinrt\" -IC:\\xpressmp\\include /Tcsrc/C\\dot.c /Fobuild\\temp.win-amd64-3.7\\Release\\src/C\\dot.obj\n",
      "  dot.c\n",
      "  src/C\\dot.c(13): warning C4244: '=': conversion from 'Py_ssize_t' to 'int', possible loss of data\n",
      "  C:\\Program Files (x86)\\Microsoft Visual Studio\\2019\\Community\\VC\\Tools\\MSVC\\14.21.27702\\bin\\HostX86\\x64\\cl.exe /c /nologo /Ox /W3 /GL /DNDEBUG /MT -IC:\\Users\\baral\\Anaconda3\\include -IC:\\Users\\baral\\Anaconda3\\include \"-IC:\\Program Files (x86)\\Microsoft Visual Studio\\2019\\Community\\VC\\Tools\\MSVC\\14.21.27702\\ATLMFC\\include\" \"-IC:\\Program Files (x86)\\Microsoft Visual Studio\\2019\\Community\\VC\\Tools\\MSVC\\14.21.27702\\include\" \"-IC:\\Program Files (x86)\\Windows Kits\\NETFXSDK\\4.6.1\\include\\um\" \"-IC:\\Program Files (x86)\\Windows Kits\\10\\include\\10.0.17763.0\\ucrt\" \"-IC:\\Program Files (x86)\\Windows Kits\\10\\include\\10.0.17763.0\\shared\" \"-IC:\\Program Files (x86)\\Windows Kits\\10\\include\\10.0.17763.0\\um\" \"-IC:\\Program Files (x86)\\Windows Kits\\10\\include\\10.0.17763.0\\winrt\" \"-IC:\\Program Files (x86)\\Windows Kits\\10\\include\\10.0.17763.0\\cppwinrt\" -IC:\\xpressmp\\include /Tcsrc/C\\hessian.c /Fobuild\\temp.win-amd64-3.7\\Release\\src/C\\hessian.obj\n",
      "  hessian.c\n",
      "  src/C\\hessian.c(31): warning C4244: '=': conversion from 'const Py_ssize_t' to 'int', possible loss of data\n",
      "  src/C\\hessian.c(32): warning C4244: '=': conversion from 'const Py_ssize_t' to 'int', possible loss of data\n",
      "  src/C\\hessian.c(33): warning C4244: '=': conversion from 'const Py_ssize_t' to 'int', possible loss of data\n",
      "  src/C\\hessian.c(46): warning C4244: '=': conversion from 'const Py_ssize_t' to 'int', possible loss of data\n",
      "  src/C\\hessian.c(50): warning C4244: '=': conversion from 'const Py_ssize_t' to 'int', possible loss of data\n",
      "  src/C\\hessian.c(51): warning C4244: '=': conversion from 'const Py_ssize_t' to 'int', possible loss of data\n",
      "  src/C\\hessian.c(72): warning C4244: '=': conversion from 'const Py_ssize_t' to 'int', possible loss of data\n",
      "  src/C\\hessian.c(76): warning C4244: '=': conversion from 'const Py_ssize_t' to 'int', possible loss of data\n",
      "  src/C\\hessian.c(77): warning C4244: '=': conversion from 'const Py_ssize_t' to 'int', possible loss of data\n",
      "  src/C\\hessian.c(129): warning C4244: '=': conversion from 'const Py_ssize_t' to 'int', possible loss of data\n",
      "  src/C\\hessian.c(130): warning C4244: '=': conversion from 'const Py_ssize_t' to 'int', possible loss of data\n",
      "  src/C\\hessian.c(131): warning C4244: '=': conversion from 'const Py_ssize_t' to 'int', possible loss of data\n",
      "  src/C\\hessian.c(132): warning C4244: '=': conversion from 'const Py_ssize_t' to 'int', possible loss of data\n",
      "  src/C\\hessian.c(152): warning C4244: '=': conversion from 'const Py_ssize_t' to 'int', possible loss of data\n",
      "  src/C\\hessian.c(153): warning C4244: '=': conversion from 'const Py_ssize_t' to 'int', possible loss of data\n",
      "  src/C\\hessian.c(154): warning C4244: '=': conversion from 'const Py_ssize_t' to 'int', possible loss of data\n",
      "  src/C\\hessian.c(180): warning C4244: '=': conversion from 'const Py_ssize_t' to 'int', possible loss of data\n",
      "  src/C\\hessian.c(181): warning C4244: '=': conversion from 'const Py_ssize_t' to 'int', possible loss of data\n",
      "  src/C\\hessian.c(182): warning C4244: '=': conversion from 'const Py_ssize_t' to 'int', possible loss of data\n",
      "  src/C\\hessian.c(229): warning C4244: '=': conversion from 'const Py_ssize_t' to 'int', possible loss of data\n",
      "  src/C\\hessian.c(230): warning C4244: '=': conversion from 'const Py_ssize_t' to 'int', possible loss of data\n",
      "  src/C\\hessian.c(231): warning C4244: '=': conversion from 'const Py_ssize_t' to 'int', possible loss of data\n",
      "  src/C\\hessian.c(232): warning C4244: '=': conversion from 'const Py_ssize_t' to 'int', possible loss of data\n",
      "  src/C\\hessian.c(256): warning C4244: '=': conversion from 'const Py_ssize_t' to 'int', possible loss of data\n",
      "  src/C\\hessian.c(258): warning C4244: '=': conversion from 'const Py_ssize_t' to 'int', possible loss of data\n",
      "  src/C\\hessian.c(259): warning C4244: '=': conversion from 'const Py_ssize_t' to 'int', possible loss of data\n",
      "  C:\\Program Files (x86)\\Microsoft Visual Studio\\2019\\Community\\VC\\Tools\\MSVC\\14.21.27702\\bin\\HostX86\\x64\\cl.exe /c /nologo /Ox /W3 /GL /DNDEBUG /MT -IC:\\Users\\baral\\Anaconda3\\include -IC:\\Users\\baral\\Anaconda3\\include \"-IC:\\Program Files (x86)\\Microsoft Visual Studio\\2019\\Community\\VC\\Tools\\MSVC\\14.21.27702\\ATLMFC\\include\" \"-IC:\\Program Files (x86)\\Microsoft Visual Studio\\2019\\Community\\VC\\Tools\\MSVC\\14.21.27702\\include\" \"-IC:\\Program Files (x86)\\Windows Kits\\NETFXSDK\\4.6.1\\include\\um\" \"-IC:\\Program Files (x86)\\Windows Kits\\10\\include\\10.0.17763.0\\ucrt\" \"-IC:\\Program Files (x86)\\Windows Kits\\10\\include\\10.0.17763.0\\shared\" \"-IC:\\Program Files (x86)\\Windows Kits\\10\\include\\10.0.17763.0\\um\" \"-IC:\\Program Files (x86)\\Windows Kits\\10\\include\\10.0.17763.0\\winrt\" \"-IC:\\Program Files (x86)\\Windows Kits\\10\\include\\10.0.17763.0\\cppwinrt\" -IC:\\xpressmp\\include /Tcsrc/C\\llt.c /Fobuild\\temp.win-amd64-3.7\\Release\\src/C\\llt.obj\n",
      "  llt.c\n",
      "  src/C\\llt.c(26): warning C4244: '=': conversion from 'const Py_ssize_t' to 'int', possible loss of data\n",
      "  src/C\\llt.c(27): warning C4244: '=': conversion from 'const Py_ssize_t' to 'int', possible loss of data\n",
      "  src/C\\llt.c(28): warning C4244: '=': conversion from 'const Py_ssize_t' to 'int', possible loss of data\n",
      "  src/C\\llt.c(36): warning C4244: '=': conversion from 'const Py_ssize_t' to 'int', possible loss of data\n",
      "  src/C\\llt.c(40): warning C4244: '=': conversion from 'const Py_ssize_t' to 'int', possible loss of data\n",
      "  src/C\\llt.c(41): warning C4244: '=': conversion from 'const Py_ssize_t' to 'int', possible loss of data\n",
      "  C:\\Program Files (x86)\\Microsoft Visual Studio\\2019\\Community\\VC\\Tools\\MSVC\\14.21.27702\\bin\\HostX86\\x64\\cl.exe /c /nologo /Ox /W3 /GL /DNDEBUG /MT -IC:\\Users\\baral\\Anaconda3\\include -IC:\\Users\\baral\\Anaconda3\\include \"-IC:\\Program Files (x86)\\Microsoft Visual Studio\\2019\\Community\\VC\\Tools\\MSVC\\14.21.27702\\ATLMFC\\include\" \"-IC:\\Program Files (x86)\\Microsoft Visual Studio\\2019\\Community\\VC\\Tools\\MSVC\\14.21.27702\\include\" \"-IC:\\Program Files (x86)\\Windows Kits\\NETFXSDK\\4.6.1\\include\\um\" \"-IC:\\Program Files (x86)\\Windows Kits\\10\\include\\10.0.17763.0\\ucrt\" \"-IC:\\Program Files (x86)\\Windows Kits\\10\\include\\10.0.17763.0\\shared\" \"-IC:\\Program Files (x86)\\Windows Kits\\10\\include\\10.0.17763.0\\um\" \"-IC:\\Program Files (x86)\\Windows Kits\\10\\include\\10.0.17763.0\\winrt\" \"-IC:\\Program Files (x86)\\Windows Kits\\10\\include\\10.0.17763.0\\cppwinrt\" -IC:\\xpressmp\\include /Tcsrc/C\\pfcholesky.c /Fobuild\\temp.win-amd64-3.7\\Release\\src/C\\pfcholesky.obj\n",
      "  pfcholesky.c\n",
      "  C:\\Program Files (x86)\\Microsoft Visual Studio\\2019\\Community\\VC\\Tools\\MSVC\\14.21.27702\\bin\\HostX86\\x64\\cl.exe /c /nologo /Ox /W3 /GL /DNDEBUG /MT -IC:\\Users\\baral\\Anaconda3\\include -IC:\\Users\\baral\\Anaconda3\\include \"-IC:\\Program Files (x86)\\Microsoft Visual Studio\\2019\\Community\\VC\\Tools\\MSVC\\14.21.27702\\ATLMFC\\include\" \"-IC:\\Program Files (x86)\\Microsoft Visual Studio\\2019\\Community\\VC\\Tools\\MSVC\\14.21.27702\\include\" \"-IC:\\Program Files (x86)\\Windows Kits\\NETFXSDK\\4.6.1\\include\\um\" \"-IC:\\Program Files (x86)\\Windows Kits\\10\\include\\10.0.17763.0\\ucrt\" \"-IC:\\Program Files (x86)\\Windows Kits\\10\\include\\10.0.17763.0\\shared\" \"-IC:\\Program Files (x86)\\Windows Kits\\10\\include\\10.0.17763.0\\um\" \"-IC:\\Program Files (x86)\\Windows Kits\\10\\include\\10.0.17763.0\\winrt\" \"-IC:\\Program Files (x86)\\Windows Kits\\10\\include\\10.0.17763.0\\cppwinrt\" -IC:\\xpressmp\\include /Tcsrc/C\\projected_inverse.c /Fobuild\\temp.win-amd64-3.7\\Release\\src/C\\projected_inverse.obj\n",
      "  projected_inverse.c\n",
      "  src/C\\projected_inverse.c(25): warning C4244: '=': conversion from 'const Py_ssize_t' to 'int', possible loss of data\n",
      "  src/C\\projected_inverse.c(26): warning C4244: '=': conversion from 'const Py_ssize_t' to 'int', possible loss of data\n",
      "  src/C\\projected_inverse.c(27): warning C4244: '=': conversion from 'const Py_ssize_t' to 'int', possible loss of data\n",
      "  src/C\\projected_inverse.c(28): warning C4244: '=': conversion from 'const Py_ssize_t' to 'int', possible loss of data\n",
      "  src/C\\projected_inverse.c(60): warning C4244: '=': conversion from 'const Py_ssize_t' to 'int', possible loss of data\n",
      "  src/C\\projected_inverse.c(61): warning C4244: '=': conversion from 'const Py_ssize_t' to 'int', possible loss of data\n",
      "  src/C\\projected_inverse.c(62): warning C4244: '=': conversion from 'const Py_ssize_t' to 'int', possible loss of data\n",
      "  C:\\Program Files (x86)\\Microsoft Visual Studio\\2019\\Community\\VC\\Tools\\MSVC\\14.21.27702\\bin\\HostX86\\x64\\cl.exe /c /nologo /Ox /W3 /GL /DNDEBUG /MT -IC:\\Users\\baral\\Anaconda3\\include -IC:\\Users\\baral\\Anaconda3\\include \"-IC:\\Program Files (x86)\\Microsoft Visual Studio\\2019\\Community\\VC\\Tools\\MSVC\\14.21.27702\\ATLMFC\\include\" \"-IC:\\Program Files (x86)\\Microsoft Visual Studio\\2019\\Community\\VC\\Tools\\MSVC\\14.21.27702\\include\" \"-IC:\\Program Files (x86)\\Windows Kits\\NETFXSDK\\4.6.1\\include\\um\" \"-IC:\\Program Files (x86)\\Windows Kits\\10\\include\\10.0.17763.0\\ucrt\" \"-IC:\\Program Files (x86)\\Windows Kits\\10\\include\\10.0.17763.0\\shared\" \"-IC:\\Program Files (x86)\\Windows Kits\\10\\include\\10.0.17763.0\\um\" \"-IC:\\Program Files (x86)\\Windows Kits\\10\\include\\10.0.17763.0\\winrt\" \"-IC:\\Program Files (x86)\\Windows Kits\\10\\include\\10.0.17763.0\\cppwinrt\" -IC:\\xpressmp\\include /Tcsrc/C\\trsm.c /Fobuild\\temp.win-amd64-3.7\\Release\\src/C\\trsm.obj\n",
      "  trsm.c\n",
      "  src/C\\trsm.c(34): warning C4244: '=': conversion from 'const Py_ssize_t' to 'int', possible loss of data\n",
      "  src/C\\trsm.c(35): warning C4244: '=': conversion from 'const Py_ssize_t' to 'int', possible loss of data\n",
      "  src/C\\trsm.c(36): warning C4244: '=': conversion from 'const Py_ssize_t' to 'int', possible loss of data\n",
      "  src/C\\trsm.c(43): warning C4244: '=': conversion from 'const Py_ssize_t' to 'int', possible loss of data\n",
      "  src/C\\trsm.c(52): warning C4244: '=': conversion from 'const Py_ssize_t' to 'int', possible loss of data\n",
      "  src/C\\trsm.c(55): warning C4244: '=': conversion from 'const Py_ssize_t' to 'int', possible loss of data\n",
      "  src/C\\trsm.c(56): warning C4244: '=': conversion from 'const Py_ssize_t' to 'int', possible loss of data\n",
      "  src/C\\trsm.c(77): warning C4244: '=': conversion from 'const Py_ssize_t' to 'int', possible loss of data\n",
      "  src/C\\trsm.c(86): warning C4244: '=': conversion from 'const Py_ssize_t' to 'int', possible loss of data\n",
      "  src/C\\trsm.c(87): warning C4244: '=': conversion from 'const Py_ssize_t' to 'int', possible loss of data\n",
      "  src/C\\trsm.c(88): warning C4244: '=': conversion from 'const Py_ssize_t' to 'int', possible loss of data\n",
      "  src/C\\trsm.c(89): warning C4244: '=': conversion from 'const Py_ssize_t' to 'int', possible loss of data\n",
      "  src/C\\trsm.c(96): warning C4244: '=': conversion from 'const Py_ssize_t' to 'int', possible loss of data\n",
      "  src/C\\trsm.c(114): warning C4244: '=': conversion from 'const Py_ssize_t' to 'int', possible loss of data\n",
      "  src/C\\trsm.c(115): warning C4244: '=': conversion from 'const Py_ssize_t' to 'int', possible loss of data\n",
      "  src/C\\trsm.c(116): warning C4244: '=': conversion from 'const Py_ssize_t' to 'int', possible loss of data\n",
      "  src/C\\trsm.c(130): warning C4244: '=': conversion from 'const Py_ssize_t' to 'int', possible loss of data\n",
      "  C:\\Program Files (x86)\\Microsoft Visual Studio\\2019\\Community\\VC\\Tools\\MSVC\\14.21.27702\\bin\\HostX86\\x64\\cl.exe /c /nologo /Ox /W3 /GL /DNDEBUG /MT -IC:\\Users\\baral\\Anaconda3\\include -IC:\\Users\\baral\\Anaconda3\\include \"-IC:\\Program Files (x86)\\Microsoft Visual Studio\\2019\\Community\\VC\\Tools\\MSVC\\14.21.27702\\ATLMFC\\include\" \"-IC:\\Program Files (x86)\\Microsoft Visual Studio\\2019\\Community\\VC\\Tools\\MSVC\\14.21.27702\\include\" \"-IC:\\Program Files (x86)\\Windows Kits\\NETFXSDK\\4.6.1\\include\\um\" \"-IC:\\Program Files (x86)\\Windows Kits\\10\\include\\10.0.17763.0\\ucrt\" \"-IC:\\Program Files (x86)\\Windows Kits\\10\\include\\10.0.17763.0\\shared\" \"-IC:\\Program Files (x86)\\Windows Kits\\10\\include\\10.0.17763.0\\um\" \"-IC:\\Program Files (x86)\\Windows Kits\\10\\include\\10.0.17763.0\\winrt\" \"-IC:\\Program Files (x86)\\Windows Kits\\10\\include\\10.0.17763.0\\cppwinrt\" -IC:\\xpressmp\\include /Tcsrc/C\\update_factor.c /Fobuild\\temp.win-amd64-3.7\\Release\\src/C\\update_factor.obj\n",
      "  update_factor.c\n",
      "  src/C\\update_factor.c(32): warning C4244: '=': conversion from 'const Py_ssize_t' to 'int', possible loss of data\n",
      "  src/C\\update_factor.c(40): warning C4244: '=': conversion from 'const Py_ssize_t' to 'int', possible loss of data\n",
      "  C:\\Program Files (x86)\\Microsoft Visual Studio\\2019\\Community\\VC\\Tools\\MSVC\\14.21.27702\\bin\\HostX86\\x64\\link.exe /nologo /INCREMENTAL:NO /LTCG /nodefaultlib:libucrt.lib ucrt.lib /DLL /MANIFEST:EMBED,ID=2 /MANIFESTUAC:NO /LIBPATH:/usr/lib /LIBPATH:C:\\Users\\baral\\Anaconda3\\libs /LIBPATH:C:\\Users\\baral\\Anaconda3\\PCbuild\\amd64 \"/LIBPATH:C:\\Program Files (x86)\\Microsoft Visual Studio\\2019\\Community\\VC\\Tools\\MSVC\\14.21.27702\\ATLMFC\\lib\\x64\" \"/LIBPATH:C:\\Program Files (x86)\\Microsoft Visual Studio\\2019\\Community\\VC\\Tools\\MSVC\\14.21.27702\\lib\\x64\" \"/LIBPATH:C:\\Program Files (x86)\\Windows Kits\\NETFXSDK\\4.6.1\\lib\\um\\x64\" \"/LIBPATH:C:\\Program Files (x86)\\Windows Kits\\10\\lib\\10.0.17763.0\\ucrt\\x64\" \"/LIBPATH:C:\\Program Files (x86)\\Windows Kits\\10\\lib\\10.0.17763.0\\um\\x64\" /LIBPATH:C:\\xpressmp\\lib blas.lib lapack.lib /EXPORT:PyInit_cbase build\\temp.win-amd64-3.7\\Release\\src/C\\cbase.obj build\\temp.win-amd64-3.7\\Release\\src/C\\cholesky.obj build\\temp.win-amd64-3.7\\Release\\src/C\\completion.obj build\\temp.win-amd64-3.7\\Release\\src/C\\dot.obj build\\temp.win-amd64-3.7\\Release\\src/C\\hessian.obj build\\temp.win-amd64-3.7\\Release\\src/C\\llt.obj build\\temp.win-amd64-3.7\\Release\\src/C\\pfcholesky.obj build\\temp.win-amd64-3.7\\Release\\src/C\\projected_inverse.obj build\\temp.win-amd64-3.7\\Release\\src/C\\trsm.obj build\\temp.win-amd64-3.7\\Release\\src/C\\update_factor.obj /OUT:build\\lib.win-amd64-3.7\\chompack\\cbase.cp37-win_amd64.pyd /IMPLIB:build\\temp.win-amd64-3.7\\Release\\src/C\\cbase.cp37-win_amd64.lib\n",
      "  LINK : fatal error LNK1181: cannot open input file 'blas.lib'\n",
      "  error: command 'C:\\\\Program Files (x86)\\\\Microsoft Visual Studio\\\\2019\\\\Community\\\\VC\\\\Tools\\\\MSVC\\\\14.21.27702\\\\bin\\\\HostX86\\\\x64\\\\link.exe' failed with exit status 1181\n",
      "  \n",
      "  ----------------------------------------\n",
      "  Running setup.py clean for chompack\n",
      "Successfully built smcp\n",
      "Failed to build chompack\n",
      "Installing collected packages: chompack, smcp\n",
      "  Running setup.py install for chompack: started\n",
      "    Running setup.py install for chompack: finished with status 'error'\n",
      "    Complete output from command C:\\Users\\baral\\Anaconda3\\python.exe -u -c \"import setuptools, tokenize;__file__='C:\\\\Users\\\\baral\\\\AppData\\\\Local\\\\Temp\\\\pip-install-52g_5qbx\\\\chompack\\\\setup.py';f=getattr(tokenize, 'open', open)(__file__);code=f.read().replace('\\r\\n', '\\n');f.close();exec(compile(code, __file__, 'exec'))\" install --record C:\\Users\\baral\\AppData\\Local\\Temp\\pip-record-dopdn6j4\\install-record.txt --single-version-externally-managed --compile:\n",
      "    running install\n",
      "    running build\n",
      "    running build_py\n",
      "    creating build\n",
      "    creating build\\lib.win-amd64-3.7\n",
      "    creating build\\lib.win-amd64-3.7\\chompack\n",
      "    copying src\\python\\base.py -> build\\lib.win-amd64-3.7\\chompack\n",
      "    copying src\\python\\conversion.py -> build\\lib.win-amd64-3.7\\chompack\n",
      "    copying src\\python\\maxchord.py -> build\\lib.win-amd64-3.7\\chompack\n",
      "    copying src\\python\\mcs.py -> build\\lib.win-amd64-3.7\\chompack\n",
      "    copying src\\python\\misc.py -> build\\lib.win-amd64-3.7\\chompack\n",
      "    copying src\\python\\pfcholesky.py -> build\\lib.win-amd64-3.7\\chompack\n",
      "    copying src\\python\\symbolic.py -> build\\lib.win-amd64-3.7\\chompack\n",
      "    copying src\\python\\_version.py -> build\\lib.win-amd64-3.7\\chompack\n",
      "    copying src\\python\\__init__.py -> build\\lib.win-amd64-3.7\\chompack\n",
      "    creating build\\lib.win-amd64-3.7\\chompack\\pybase\n",
      "    copying src\\python\\pybase\\cholesky.py -> build\\lib.win-amd64-3.7\\chompack\\pybase\n",
      "    copying src\\python\\pybase\\completion.py -> build\\lib.win-amd64-3.7\\chompack\\pybase\n",
      "    copying src\\python\\pybase\\edmcompletion.py -> build\\lib.win-amd64-3.7\\chompack\\pybase\n",
      "    copying src\\python\\pybase\\hessian.py -> build\\lib.win-amd64-3.7\\chompack\\pybase\n",
      "    copying src\\python\\pybase\\llt.py -> build\\lib.win-amd64-3.7\\chompack\\pybase\n",
      "    copying src\\python\\pybase\\mrcompletion.py -> build\\lib.win-amd64-3.7\\chompack\\pybase\n",
      "    copying src\\python\\pybase\\plot.py -> build\\lib.win-amd64-3.7\\chompack\\pybase\n",
      "    copying src\\python\\pybase\\projected_inverse.py -> build\\lib.win-amd64-3.7\\chompack\\pybase\n",
      "    copying src\\python\\pybase\\psdcompletion.py -> build\\lib.win-amd64-3.7\\chompack\\pybase\n",
      "    copying src\\python\\pybase\\trmm.py -> build\\lib.win-amd64-3.7\\chompack\\pybase\n",
      "    copying src\\python\\pybase\\trsm.py -> build\\lib.win-amd64-3.7\\chompack\\pybase\n",
      "    copying src\\python\\pybase\\__init__.py -> build\\lib.win-amd64-3.7\\chompack\\pybase\n",
      "    UPDATING build\\lib.win-amd64-3.7\\chompack/_version.py\n",
      "    set build\\lib.win-amd64-3.7\\chompack/_version.py to '2.3.2'\n",
      "    running build_ext\n",
      "    building 'cbase' extension\n",
      "    creating build\\temp.win-amd64-3.7\n",
      "    creating build\\temp.win-amd64-3.7\\Release\n",
      "    creating build\\temp.win-amd64-3.7\\Release\\src\n",
      "    creating build\\temp.win-amd64-3.7\\Release\\src\\C\n",
      "    C:\\Program Files (x86)\\Microsoft Visual Studio\\2019\\Community\\VC\\Tools\\MSVC\\14.21.27702\\bin\\HostX86\\x64\\cl.exe /c /nologo /Ox /W3 /GL /DNDEBUG /MT -IC:\\Users\\baral\\Anaconda3\\include -IC:\\Users\\baral\\Anaconda3\\include \"-IC:\\Program Files (x86)\\Microsoft Visual Studio\\2019\\Community\\VC\\Tools\\MSVC\\14.21.27702\\ATLMFC\\include\" \"-IC:\\Program Files (x86)\\Microsoft Visual Studio\\2019\\Community\\VC\\Tools\\MSVC\\14.21.27702\\include\" \"-IC:\\Program Files (x86)\\Windows Kits\\NETFXSDK\\4.6.1\\include\\um\" \"-IC:\\Program Files (x86)\\Windows Kits\\10\\include\\10.0.17763.0\\ucrt\" \"-IC:\\Program Files (x86)\\Windows Kits\\10\\include\\10.0.17763.0\\shared\" \"-IC:\\Program Files (x86)\\Windows Kits\\10\\include\\10.0.17763.0\\um\" \"-IC:\\Program Files (x86)\\Windows Kits\\10\\include\\10.0.17763.0\\winrt\" \"-IC:\\Program Files (x86)\\Windows Kits\\10\\include\\10.0.17763.0\\cppwinrt\" -IC:\\xpressmp\\include /Tcsrc/C\\cbase.c /Fobuild\\temp.win-amd64-3.7\\Release\\src/C\\cbase.obj\n",
      "    cbase.c\n",
      "    C:\\Program Files (x86)\\Microsoft Visual Studio\\2019\\Community\\VC\\Tools\\MSVC\\14.21.27702\\bin\\HostX86\\x64\\cl.exe /c /nologo /Ox /W3 /GL /DNDEBUG /MT -IC:\\Users\\baral\\Anaconda3\\include -IC:\\Users\\baral\\Anaconda3\\include \"-IC:\\Program Files (x86)\\Microsoft Visual Studio\\2019\\Community\\VC\\Tools\\MSVC\\14.21.27702\\ATLMFC\\include\" \"-IC:\\Program Files (x86)\\Microsoft Visual Studio\\2019\\Community\\VC\\Tools\\MSVC\\14.21.27702\\include\" \"-IC:\\Program Files (x86)\\Windows Kits\\NETFXSDK\\4.6.1\\include\\um\" \"-IC:\\Program Files (x86)\\Windows Kits\\10\\include\\10.0.17763.0\\ucrt\" \"-IC:\\Program Files (x86)\\Windows Kits\\10\\include\\10.0.17763.0\\shared\" \"-IC:\\Program Files (x86)\\Windows Kits\\10\\include\\10.0.17763.0\\um\" \"-IC:\\Program Files (x86)\\Windows Kits\\10\\include\\10.0.17763.0\\winrt\" \"-IC:\\Program Files (x86)\\Windows Kits\\10\\include\\10.0.17763.0\\cppwinrt\" -IC:\\xpressmp\\include /Tcsrc/C\\cholesky.c /Fobuild\\temp.win-amd64-3.7\\Release\\src/C\\cholesky.obj\n",
      "    cholesky.c\n",
      "    src/C\\cholesky.c(27): warning C4244: '=': conversion from 'const Py_ssize_t' to 'int', possible loss of data\n",
      "    src/C\\cholesky.c(28): warning C4244: '=': conversion from 'const Py_ssize_t' to 'int', possible loss of data\n",
      "    src/C\\cholesky.c(29): warning C4244: '=': conversion from 'const Py_ssize_t' to 'int', possible loss of data\n",
      "    src/C\\cholesky.c(41): warning C4244: '=': conversion from 'const Py_ssize_t' to 'int', possible loss of data\n",
      "    src/C\\cholesky.c(45): warning C4244: '=': conversion from 'const Py_ssize_t' to 'int', possible loss of data\n",
      "    src/C\\cholesky.c(46): warning C4244: '=': conversion from 'const Py_ssize_t' to 'int', possible loss of data\n",
      "    C:\\Program Files (x86)\\Microsoft Visual Studio\\2019\\Community\\VC\\Tools\\MSVC\\14.21.27702\\bin\\HostX86\\x64\\cl.exe /c /nologo /Ox /W3 /GL /DNDEBUG /MT -IC:\\Users\\baral\\Anaconda3\\include -IC:\\Users\\baral\\Anaconda3\\include \"-IC:\\Program Files (x86)\\Microsoft Visual Studio\\2019\\Community\\VC\\Tools\\MSVC\\14.21.27702\\ATLMFC\\include\" \"-IC:\\Program Files (x86)\\Microsoft Visual Studio\\2019\\Community\\VC\\Tools\\MSVC\\14.21.27702\\include\" \"-IC:\\Program Files (x86)\\Windows Kits\\NETFXSDK\\4.6.1\\include\\um\" \"-IC:\\Program Files (x86)\\Windows Kits\\10\\include\\10.0.17763.0\\ucrt\" \"-IC:\\Program Files (x86)\\Windows Kits\\10\\include\\10.0.17763.0\\shared\" \"-IC:\\Program Files (x86)\\Windows Kits\\10\\include\\10.0.17763.0\\um\" \"-IC:\\Program Files (x86)\\Windows Kits\\10\\include\\10.0.17763.0\\winrt\" \"-IC:\\Program Files (x86)\\Windows Kits\\10\\include\\10.0.17763.0\\cppwinrt\" -IC:\\xpressmp\\include /Tcsrc/C\\completion.c /Fobuild\\temp.win-amd64-3.7\\Release\\src/C\\completion.obj\n",
      "    completion.c\n",
      "    src/C\\completion.c(26): warning C4244: '=': conversion from 'const Py_ssize_t' to 'int', possible loss of data\n",
      "    src/C\\completion.c(27): warning C4244: '=': conversion from 'const Py_ssize_t' to 'int', possible loss of data\n",
      "    src/C\\completion.c(28): warning C4244: '=': conversion from 'const Py_ssize_t' to 'int', possible loss of data\n",
      "    src/C\\completion.c(29): warning C4244: '=': conversion from 'const Py_ssize_t' to 'int', possible loss of data\n",
      "    src/C\\completion.c(48): warning C4244: '=': conversion from 'const Py_ssize_t' to 'int', possible loss of data\n",
      "    src/C\\completion.c(50): warning C4244: '=': conversion from 'const Py_ssize_t' to 'int', possible loss of data\n",
      "    src/C\\completion.c(51): warning C4244: '=': conversion from 'const Py_ssize_t' to 'int', possible loss of data\n",
      "    C:\\Program Files (x86)\\Microsoft Visual Studio\\2019\\Community\\VC\\Tools\\MSVC\\14.21.27702\\bin\\HostX86\\x64\\cl.exe /c /nologo /Ox /W3 /GL /DNDEBUG /MT -IC:\\Users\\baral\\Anaconda3\\include -IC:\\Users\\baral\\Anaconda3\\include \"-IC:\\Program Files (x86)\\Microsoft Visual Studio\\2019\\Community\\VC\\Tools\\MSVC\\14.21.27702\\ATLMFC\\include\" \"-IC:\\Program Files (x86)\\Microsoft Visual Studio\\2019\\Community\\VC\\Tools\\MSVC\\14.21.27702\\include\" \"-IC:\\Program Files (x86)\\Windows Kits\\NETFXSDK\\4.6.1\\include\\um\" \"-IC:\\Program Files (x86)\\Windows Kits\\10\\include\\10.0.17763.0\\ucrt\" \"-IC:\\Program Files (x86)\\Windows Kits\\10\\include\\10.0.17763.0\\shared\" \"-IC:\\Program Files (x86)\\Windows Kits\\10\\include\\10.0.17763.0\\um\" \"-IC:\\Program Files (x86)\\Windows Kits\\10\\include\\10.0.17763.0\\winrt\" \"-IC:\\Program Files (x86)\\Windows Kits\\10\\include\\10.0.17763.0\\cppwinrt\" -IC:\\xpressmp\\include /Tcsrc/C\\dot.c /Fobuild\\temp.win-amd64-3.7\\Release\\src/C\\dot.obj\n",
      "    dot.c\n",
      "    src/C\\dot.c(13): warning C4244: '=': conversion from 'Py_ssize_t' to 'int', possible loss of data\n",
      "    C:\\Program Files (x86)\\Microsoft Visual Studio\\2019\\Community\\VC\\Tools\\MSVC\\14.21.27702\\bin\\HostX86\\x64\\cl.exe /c /nologo /Ox /W3 /GL /DNDEBUG /MT -IC:\\Users\\baral\\Anaconda3\\include -IC:\\Users\\baral\\Anaconda3\\include \"-IC:\\Program Files (x86)\\Microsoft Visual Studio\\2019\\Community\\VC\\Tools\\MSVC\\14.21.27702\\ATLMFC\\include\" \"-IC:\\Program Files (x86)\\Microsoft Visual Studio\\2019\\Community\\VC\\Tools\\MSVC\\14.21.27702\\include\" \"-IC:\\Program Files (x86)\\Windows Kits\\NETFXSDK\\4.6.1\\include\\um\" \"-IC:\\Program Files (x86)\\Windows Kits\\10\\include\\10.0.17763.0\\ucrt\" \"-IC:\\Program Files (x86)\\Windows Kits\\10\\include\\10.0.17763.0\\shared\" \"-IC:\\Program Files (x86)\\Windows Kits\\10\\include\\10.0.17763.0\\um\" \"-IC:\\Program Files (x86)\\Windows Kits\\10\\include\\10.0.17763.0\\winrt\" \"-IC:\\Program Files (x86)\\Windows Kits\\10\\include\\10.0.17763.0\\cppwinrt\" -IC:\\xpressmp\\include /Tcsrc/C\\hessian.c /Fobuild\\temp.win-amd64-3.7\\Release\\src/C\\hessian.obj\n",
      "    hessian.c\n",
      "    src/C\\hessian.c(31): warning C4244: '=': conversion from 'const Py_ssize_t' to 'int', possible loss of data\n",
      "    src/C\\hessian.c(32): warning C4244: '=': conversion from 'const Py_ssize_t' to 'int', possible loss of data\n",
      "    src/C\\hessian.c(33): warning C4244: '=': conversion from 'const Py_ssize_t' to 'int', possible loss of data\n",
      "    src/C\\hessian.c(46): warning C4244: '=': conversion from 'const Py_ssize_t' to 'int', possible loss of data\n",
      "    src/C\\hessian.c(50): warning C4244: '=': conversion from 'const Py_ssize_t' to 'int', possible loss of data\n",
      "    src/C\\hessian.c(51): warning C4244: '=': conversion from 'const Py_ssize_t' to 'int', possible loss of data\n",
      "    src/C\\hessian.c(72): warning C4244: '=': conversion from 'const Py_ssize_t' to 'int', possible loss of data\n",
      "    src/C\\hessian.c(76): warning C4244: '=': conversion from 'const Py_ssize_t' to 'int', possible loss of data\n",
      "    src/C\\hessian.c(77): warning C4244: '=': conversion from 'const Py_ssize_t' to 'int', possible loss of data\n",
      "    src/C\\hessian.c(129): warning C4244: '=': conversion from 'const Py_ssize_t' to 'int', possible loss of data\n",
      "    src/C\\hessian.c(130): warning C4244: '=': conversion from 'const Py_ssize_t' to 'int', possible loss of data\n",
      "    src/C\\hessian.c(131): warning C4244: '=': conversion from 'const Py_ssize_t' to 'int', possible loss of data\n",
      "    src/C\\hessian.c(132): warning C4244: '=': conversion from 'const Py_ssize_t' to 'int', possible loss of data\n",
      "    src/C\\hessian.c(152): warning C4244: '=': conversion from 'const Py_ssize_t' to 'int', possible loss of data\n",
      "    src/C\\hessian.c(153): warning C4244: '=': conversion from 'const Py_ssize_t' to 'int', possible loss of data\n",
      "    src/C\\hessian.c(154): warning C4244: '=': conversion from 'const Py_ssize_t' to 'int', possible loss of data\n",
      "    src/C\\hessian.c(180): warning C4244: '=': conversion from 'const Py_ssize_t' to 'int', possible loss of data\n",
      "    src/C\\hessian.c(181): warning C4244: '=': conversion from 'const Py_ssize_t' to 'int', possible loss of data\n",
      "    src/C\\hessian.c(182): warning C4244: '=': conversion from 'const Py_ssize_t' to 'int', possible loss of data\n",
      "    src/C\\hessian.c(229): warning C4244: '=': conversion from 'const Py_ssize_t' to 'int', possible loss of data\n",
      "    src/C\\hessian.c(230): warning C4244: '=': conversion from 'const Py_ssize_t' to 'int', possible loss of data\n",
      "    src/C\\hessian.c(231): warning C4244: '=': conversion from 'const Py_ssize_t' to 'int', possible loss of data\n",
      "    src/C\\hessian.c(232): warning C4244: '=': conversion from 'const Py_ssize_t' to 'int', possible loss of data\n",
      "    src/C\\hessian.c(256): warning C4244: '=': conversion from 'const Py_ssize_t' to 'int', possible loss of data\n",
      "    src/C\\hessian.c(258): warning C4244: '=': conversion from 'const Py_ssize_t' to 'int', possible loss of data\n",
      "    src/C\\hessian.c(259): warning C4244: '=': conversion from 'const Py_ssize_t' to 'int', possible loss of data\n",
      "    C:\\Program Files (x86)\\Microsoft Visual Studio\\2019\\Community\\VC\\Tools\\MSVC\\14.21.27702\\bin\\HostX86\\x64\\cl.exe /c /nologo /Ox /W3 /GL /DNDEBUG /MT -IC:\\Users\\baral\\Anaconda3\\include -IC:\\Users\\baral\\Anaconda3\\include \"-IC:\\Program Files (x86)\\Microsoft Visual Studio\\2019\\Community\\VC\\Tools\\MSVC\\14.21.27702\\ATLMFC\\include\" \"-IC:\\Program Files (x86)\\Microsoft Visual Studio\\2019\\Community\\VC\\Tools\\MSVC\\14.21.27702\\include\" \"-IC:\\Program Files (x86)\\Windows Kits\\NETFXSDK\\4.6.1\\include\\um\" \"-IC:\\Program Files (x86)\\Windows Kits\\10\\include\\10.0.17763.0\\ucrt\" \"-IC:\\Program Files (x86)\\Windows Kits\\10\\include\\10.0.17763.0\\shared\" \"-IC:\\Program Files (x86)\\Windows Kits\\10\\include\\10.0.17763.0\\um\" \"-IC:\\Program Files (x86)\\Windows Kits\\10\\include\\10.0.17763.0\\winrt\" \"-IC:\\Program Files (x86)\\Windows Kits\\10\\include\\10.0.17763.0\\cppwinrt\" -IC:\\xpressmp\\include /Tcsrc/C\\llt.c /Fobuild\\temp.win-amd64-3.7\\Release\\src/C\\llt.obj\n",
      "    llt.c\n",
      "    src/C\\llt.c(26): warning C4244: '=': conversion from 'const Py_ssize_t' to 'int', possible loss of data\n",
      "    src/C\\llt.c(27): warning C4244: '=': conversion from 'const Py_ssize_t' to 'int', possible loss of data\n",
      "    src/C\\llt.c(28): warning C4244: '=': conversion from 'const Py_ssize_t' to 'int', possible loss of data\n",
      "    src/C\\llt.c(36): warning C4244: '=': conversion from 'const Py_ssize_t' to 'int', possible loss of data\n",
      "    src/C\\llt.c(40): warning C4244: '=': conversion from 'const Py_ssize_t' to 'int', possible loss of data\n",
      "    src/C\\llt.c(41): warning C4244: '=': conversion from 'const Py_ssize_t' to 'int', possible loss of data\n",
      "    C:\\Program Files (x86)\\Microsoft Visual Studio\\2019\\Community\\VC\\Tools\\MSVC\\14.21.27702\\bin\\HostX86\\x64\\cl.exe /c /nologo /Ox /W3 /GL /DNDEBUG /MT -IC:\\Users\\baral\\Anaconda3\\include -IC:\\Users\\baral\\Anaconda3\\include \"-IC:\\Program Files (x86)\\Microsoft Visual Studio\\2019\\Community\\VC\\Tools\\MSVC\\14.21.27702\\ATLMFC\\include\" \"-IC:\\Program Files (x86)\\Microsoft Visual Studio\\2019\\Community\\VC\\Tools\\MSVC\\14.21.27702\\include\" \"-IC:\\Program Files (x86)\\Windows Kits\\NETFXSDK\\4.6.1\\include\\um\" \"-IC:\\Program Files (x86)\\Windows Kits\\10\\include\\10.0.17763.0\\ucrt\" \"-IC:\\Program Files (x86)\\Windows Kits\\10\\include\\10.0.17763.0\\shared\" \"-IC:\\Program Files (x86)\\Windows Kits\\10\\include\\10.0.17763.0\\um\" \"-IC:\\Program Files (x86)\\Windows Kits\\10\\include\\10.0.17763.0\\winrt\" \"-IC:\\Program Files (x86)\\Windows Kits\\10\\include\\10.0.17763.0\\cppwinrt\" -IC:\\xpressmp\\include /Tcsrc/C\\pfcholesky.c /Fobuild\\temp.win-amd64-3.7\\Release\\src/C\\pfcholesky.obj\n",
      "    pfcholesky.c\n",
      "    C:\\Program Files (x86)\\Microsoft Visual Studio\\2019\\Community\\VC\\Tools\\MSVC\\14.21.27702\\bin\\HostX86\\x64\\cl.exe /c /nologo /Ox /W3 /GL /DNDEBUG /MT -IC:\\Users\\baral\\Anaconda3\\include -IC:\\Users\\baral\\Anaconda3\\include \"-IC:\\Program Files (x86)\\Microsoft Visual Studio\\2019\\Community\\VC\\Tools\\MSVC\\14.21.27702\\ATLMFC\\include\" \"-IC:\\Program Files (x86)\\Microsoft Visual Studio\\2019\\Community\\VC\\Tools\\MSVC\\14.21.27702\\include\" \"-IC:\\Program Files (x86)\\Windows Kits\\NETFXSDK\\4.6.1\\include\\um\" \"-IC:\\Program Files (x86)\\Windows Kits\\10\\include\\10.0.17763.0\\ucrt\" \"-IC:\\Program Files (x86)\\Windows Kits\\10\\include\\10.0.17763.0\\shared\" \"-IC:\\Program Files (x86)\\Windows Kits\\10\\include\\10.0.17763.0\\um\" \"-IC:\\Program Files (x86)\\Windows Kits\\10\\include\\10.0.17763.0\\winrt\" \"-IC:\\Program Files (x86)\\Windows Kits\\10\\include\\10.0.17763.0\\cppwinrt\" -IC:\\xpressmp\\include /Tcsrc/C\\projected_inverse.c /Fobuild\\temp.win-amd64-3.7\\Release\\src/C\\projected_inverse.obj\n",
      "    projected_inverse.c\n",
      "    src/C\\projected_inverse.c(25): warning C4244: '=': conversion from 'const Py_ssize_t' to 'int', possible loss of data\n",
      "    src/C\\projected_inverse.c(26): warning C4244: '=': conversion from 'const Py_ssize_t' to 'int', possible loss of data\n",
      "    src/C\\projected_inverse.c(27): warning C4244: '=': conversion from 'const Py_ssize_t' to 'int', possible loss of data\n",
      "    src/C\\projected_inverse.c(28): warning C4244: '=': conversion from 'const Py_ssize_t' to 'int', possible loss of data\n",
      "    src/C\\projected_inverse.c(60): warning C4244: '=': conversion from 'const Py_ssize_t' to 'int', possible loss of data\n",
      "    src/C\\projected_inverse.c(61): warning C4244: '=': conversion from 'const Py_ssize_t' to 'int', possible loss of data\n",
      "    src/C\\projected_inverse.c(62): warning C4244: '=': conversion from 'const Py_ssize_t' to 'int', possible loss of data\n",
      "    C:\\Program Files (x86)\\Microsoft Visual Studio\\2019\\Community\\VC\\Tools\\MSVC\\14.21.27702\\bin\\HostX86\\x64\\cl.exe /c /nologo /Ox /W3 /GL /DNDEBUG /MT -IC:\\Users\\baral\\Anaconda3\\include -IC:\\Users\\baral\\Anaconda3\\include \"-IC:\\Program Files (x86)\\Microsoft Visual Studio\\2019\\Community\\VC\\Tools\\MSVC\\14.21.27702\\ATLMFC\\include\" \"-IC:\\Program Files (x86)\\Microsoft Visual Studio\\2019\\Community\\VC\\Tools\\MSVC\\14.21.27702\\include\" \"-IC:\\Program Files (x86)\\Windows Kits\\NETFXSDK\\4.6.1\\include\\um\" \"-IC:\\Program Files (x86)\\Windows Kits\\10\\include\\10.0.17763.0\\ucrt\" \"-IC:\\Program Files (x86)\\Windows Kits\\10\\include\\10.0.17763.0\\shared\" \"-IC:\\Program Files (x86)\\Windows Kits\\10\\include\\10.0.17763.0\\um\" \"-IC:\\Program Files (x86)\\Windows Kits\\10\\include\\10.0.17763.0\\winrt\" \"-IC:\\Program Files (x86)\\Windows Kits\\10\\include\\10.0.17763.0\\cppwinrt\" -IC:\\xpressmp\\include /Tcsrc/C\\trsm.c /Fobuild\\temp.win-amd64-3.7\\Release\\src/C\\trsm.obj\n",
      "    trsm.c\n",
      "    src/C\\trsm.c(34): warning C4244: '=': conversion from 'const Py_ssize_t' to 'int', possible loss of data\n",
      "    src/C\\trsm.c(35): warning C4244: '=': conversion from 'const Py_ssize_t' to 'int', possible loss of data\n",
      "    src/C\\trsm.c(36): warning C4244: '=': conversion from 'const Py_ssize_t' to 'int', possible loss of data\n",
      "    src/C\\trsm.c(43): warning C4244: '=': conversion from 'const Py_ssize_t' to 'int', possible loss of data\n",
      "    src/C\\trsm.c(52): warning C4244: '=': conversion from 'const Py_ssize_t' to 'int', possible loss of data\n",
      "    src/C\\trsm.c(55): warning C4244: '=': conversion from 'const Py_ssize_t' to 'int', possible loss of data\n",
      "    src/C\\trsm.c(56): warning C4244: '=': conversion from 'const Py_ssize_t' to 'int', possible loss of data\n",
      "    src/C\\trsm.c(77): warning C4244: '=': conversion from 'const Py_ssize_t' to 'int', possible loss of data\n",
      "    src/C\\trsm.c(86): warning C4244: '=': conversion from 'const Py_ssize_t' to 'int', possible loss of data\n",
      "    src/C\\trsm.c(87): warning C4244: '=': conversion from 'const Py_ssize_t' to 'int', possible loss of data\n",
      "    src/C\\trsm.c(88): warning C4244: '=': conversion from 'const Py_ssize_t' to 'int', possible loss of data\n",
      "    src/C\\trsm.c(89): warning C4244: '=': conversion from 'const Py_ssize_t' to 'int', possible loss of data\n",
      "    src/C\\trsm.c(96): warning C4244: '=': conversion from 'const Py_ssize_t' to 'int', possible loss of data\n",
      "    src/C\\trsm.c(114): warning C4244: '=': conversion from 'const Py_ssize_t' to 'int', possible loss of data\n",
      "    src/C\\trsm.c(115): warning C4244: '=': conversion from 'const Py_ssize_t' to 'int', possible loss of data\n",
      "    src/C\\trsm.c(116): warning C4244: '=': conversion from 'const Py_ssize_t' to 'int', possible loss of data\n",
      "    src/C\\trsm.c(130): warning C4244: '=': conversion from 'const Py_ssize_t' to 'int', possible loss of data\n",
      "    C:\\Program Files (x86)\\Microsoft Visual Studio\\2019\\Community\\VC\\Tools\\MSVC\\14.21.27702\\bin\\HostX86\\x64\\cl.exe /c /nologo /Ox /W3 /GL /DNDEBUG /MT -IC:\\Users\\baral\\Anaconda3\\include -IC:\\Users\\baral\\Anaconda3\\include \"-IC:\\Program Files (x86)\\Microsoft Visual Studio\\2019\\Community\\VC\\Tools\\MSVC\\14.21.27702\\ATLMFC\\include\" \"-IC:\\Program Files (x86)\\Microsoft Visual Studio\\2019\\Community\\VC\\Tools\\MSVC\\14.21.27702\\include\" \"-IC:\\Program Files (x86)\\Windows Kits\\NETFXSDK\\4.6.1\\include\\um\" \"-IC:\\Program Files (x86)\\Windows Kits\\10\\include\\10.0.17763.0\\ucrt\" \"-IC:\\Program Files (x86)\\Windows Kits\\10\\include\\10.0.17763.0\\shared\" \"-IC:\\Program Files (x86)\\Windows Kits\\10\\include\\10.0.17763.0\\um\" \"-IC:\\Program Files (x86)\\Windows Kits\\10\\include\\10.0.17763.0\\winrt\" \"-IC:\\Program Files (x86)\\Windows Kits\\10\\include\\10.0.17763.0\\cppwinrt\" -IC:\\xpressmp\\include /Tcsrc/C\\update_factor.c /Fobuild\\temp.win-amd64-3.7\\Release\\src/C\\update_factor.obj\n",
      "    update_factor.c\n",
      "    src/C\\update_factor.c(32): warning C4244: '=': conversion from 'const Py_ssize_t' to 'int', possible loss of data\n",
      "    src/C\\update_factor.c(40): warning C4244: '=': conversion from 'const Py_ssize_t' to 'int', possible loss of data\n",
      "    C:\\Program Files (x86)\\Microsoft Visual Studio\\2019\\Community\\VC\\Tools\\MSVC\\14.21.27702\\bin\\HostX86\\x64\\link.exe /nologo /INCREMENTAL:NO /LTCG /nodefaultlib:libucrt.lib ucrt.lib /DLL /MANIFEST:EMBED,ID=2 /MANIFESTUAC:NO /LIBPATH:/usr/lib /LIBPATH:C:\\Users\\baral\\Anaconda3\\libs /LIBPATH:C:\\Users\\baral\\Anaconda3\\PCbuild\\amd64 \"/LIBPATH:C:\\Program Files (x86)\\Microsoft Visual Studio\\2019\\Community\\VC\\Tools\\MSVC\\14.21.27702\\ATLMFC\\lib\\x64\" \"/LIBPATH:C:\\Program Files (x86)\\Microsoft Visual Studio\\2019\\Community\\VC\\Tools\\MSVC\\14.21.27702\\lib\\x64\" \"/LIBPATH:C:\\Program Files (x86)\\Windows Kits\\NETFXSDK\\4.6.1\\lib\\um\\x64\" \"/LIBPATH:C:\\Program Files (x86)\\Windows Kits\\10\\lib\\10.0.17763.0\\ucrt\\x64\" \"/LIBPATH:C:\\Program Files (x86)\\Windows Kits\\10\\lib\\10.0.17763.0\\um\\x64\" /LIBPATH:C:\\xpressmp\\lib blas.lib lapack.lib /EXPORT:PyInit_cbase build\\temp.win-amd64-3.7\\Release\\src/C\\cbase.obj build\\temp.win-amd64-3.7\\Release\\src/C\\cholesky.obj build\\temp.win-amd64-3.7\\Release\\src/C\\completion.obj build\\temp.win-amd64-3.7\\Release\\src/C\\dot.obj build\\temp.win-amd64-3.7\\Release\\src/C\\hessian.obj build\\temp.win-amd64-3.7\\Release\\src/C\\llt.obj build\\temp.win-amd64-3.7\\Release\\src/C\\pfcholesky.obj build\\temp.win-amd64-3.7\\Release\\src/C\\projected_inverse.obj build\\temp.win-amd64-3.7\\Release\\src/C\\trsm.obj build\\temp.win-amd64-3.7\\Release\\src/C\\update_factor.obj /OUT:build\\lib.win-amd64-3.7\\chompack\\cbase.cp37-win_amd64.pyd /IMPLIB:build\\temp.win-amd64-3.7\\Release\\src/C\\cbase.cp37-win_amd64.lib\n",
      "    LINK : fatal error LNK1181: cannot open input file 'blas.lib'\n",
      "    error: command 'C:\\\\Program Files (x86)\\\\Microsoft Visual Studio\\\\2019\\\\Community\\\\VC\\\\Tools\\\\MSVC\\\\14.21.27702\\\\bin\\\\HostX86\\\\x64\\\\link.exe' failed with exit status 1181\n",
      "    \n",
      "    ----------------------------------------\n",
      "Note: you may need to restart the kernel to use updated packages.\n"
     ]
    },
    {
     "name": "stderr",
     "output_type": "stream",
     "text": [
      "  Failed building wheel for chompack\n",
      "Command \"C:\\Users\\baral\\Anaconda3\\python.exe -u -c \"import setuptools, tokenize;__file__='C:\\\\Users\\\\baral\\\\AppData\\\\Local\\\\Temp\\\\pip-install-52g_5qbx\\\\chompack\\\\setup.py';f=getattr(tokenize, 'open', open)(__file__);code=f.read().replace('\\r\\n', '\\n');f.close();exec(compile(code, __file__, 'exec'))\" install --record C:\\Users\\baral\\AppData\\Local\\Temp\\pip-record-dopdn6j4\\install-record.txt --single-version-externally-managed --compile\" failed with error code 1 in C:\\Users\\baral\\AppData\\Local\\Temp\\pip-install-52g_5qbx\\chompack\\\n"
     ]
    }
   ],
   "source": [
    "pip install smcp"
   ]
  }
 ],
 "metadata": {
  "kernelspec": {
   "display_name": "Python 3",
   "language": "python",
   "name": "python3"
  },
  "language_info": {
   "codemirror_mode": {
    "name": "ipython",
    "version": 3
   },
   "file_extension": ".py",
   "mimetype": "text/x-python",
   "name": "python",
   "nbconvert_exporter": "python",
   "pygments_lexer": "ipython3",
   "version": "3.7.3"
  }
 },
 "nbformat": 4,
 "nbformat_minor": 2
}
