{
 "cells": [
  {
   "cell_type": "markdown",
   "metadata": {},
   "source": [
    "## Linear Programming Using lpSolve"
   ]
  },
  {
   "cell_type": "code",
   "execution_count": 3,
   "metadata": {},
   "outputs": [
    {
     "name": "stdout",
     "output_type": "stream",
     "text": [
      "     x_1      x_2 \n",
      "2.666667 2.666667 \n"
     ]
    }
   ],
   "source": [
    "require(lpSolve) # call the package\n",
    "## Set the coefficients of the decision variables \n",
    "C <- c(30, 20)\n",
    "\n",
    "A <- matrix(c(1, 2, \n",
    "              2, 1\n",
    "              ), nrow=2, byrow=TRUE)\n",
    "B <- c(8, 8)\n",
    "# Direction of the constraints\n",
    "constranints_direction  <- c(\"<=\", \"<=\")\n",
    "# Find the optimal solution\n",
    "optimum <-  lp(direction=\"max\",\n",
    "               objective.in = C,\n",
    "               const.mat = A,\n",
    "               const.dir = constranints_direction,\n",
    "              const.rhs = B) \n",
    "best_sol <- optimum$solution\n",
    "names(best_sol) <- c(\"x_1\", \"x_2\")\n",
    "print(best_sol)"
   ]
  },
  {
   "cell_type": "markdown",
   "metadata": {},
   "source": [
    "## Integer Programming Using lpSolve"
   ]
  },
  {
   "cell_type": "code",
   "execution_count": 4,
   "metadata": {},
   "outputs": [
    {
     "name": "stdout",
     "output_type": "stream",
     "text": [
      "x_1 x_2 \n",
      "  3   2 \n"
     ]
    }
   ],
   "source": [
    "require(lpSolve) # call the package\n",
    "## Set the coefficients of the decision variables \n",
    "C <- c(30, 20)\n",
    "\n",
    "A <- matrix(c(1, 2, \n",
    "              2, 1\n",
    "              ), nrow=2, byrow=TRUE)\n",
    "B <- c(8, 8)\n",
    "types <- c(\"I\", \"I\")\n",
    "# Direction of the constraints\n",
    "constranints_direction  <- c(\"<=\", \"<=\")\n",
    "# Find the optimal solution\n",
    "optimum <-  lp(direction=\"max\",\n",
    "               objective.in = C,\n",
    "               const.mat = A,\n",
    "               const.dir = constranints_direction,\n",
    "              const.rhs = B,all.int=TRUE) ## all variables are integers\n",
    "best_sol <- optimum$solution\n",
    "names(best_sol) <- c(\"x_1\", \"x_2\")\n",
    "print(best_sol)"
   ]
  },
  {
   "cell_type": "markdown",
   "metadata": {},
   "source": [
    "## Quadratic Programming Using quadprog"
   ]
  },
  {
   "cell_type": "code",
   "execution_count": 6,
   "metadata": {},
   "outputs": [
    {
     "data": {
      "text/html": [
       "<ol class=list-inline>\n",
       "\t<li>0.5</li>\n",
       "\t<li>1</li>\n",
       "</ol>\n"
      ],
      "text/latex": [
       "\\begin{enumerate*}\n",
       "\\item 0.5\n",
       "\\item 1\n",
       "\\end{enumerate*}\n"
      ],
      "text/markdown": [
       "1. 0.5\n",
       "2. 1\n",
       "\n",
       "\n"
      ],
      "text/plain": [
       "[1] 0.5 1.0"
      ]
     },
     "metadata": {},
     "output_type": "display_data"
    },
    {
     "data": {
      "text/html": [
       "11.25"
      ],
      "text/latex": [
       "11.25"
      ],
      "text/markdown": [
       "11.25"
      ],
      "text/plain": [
       "[1] 11.25"
      ]
     },
     "metadata": {},
     "output_type": "display_data"
    }
   ],
   "source": [
    "require(quadprog) # call the quadprog package\n",
    "Dmat       <- matrix(c(6,2,2,2),2,2) # Q matrix from MATLAB section (R take it as Dmat)\n",
    "dvec       <- c(-1,-6) # f vector from MATLAB section with negative sign bcuz R solves min problem \n",
    "Amat       <- matrix(c(2,3)) # constraints matrix\n",
    "bvec       <- c(4) # right hand side of the constraints\n",
    "solve.QP(Dmat,dvec,Amat,bvec=bvec)$solution # solve it using quadprog\n",
    "(solve.QP(Dmat,dvec,Amat,bvec=bvec)$value)+2"
   ]
  },
  {
   "cell_type": "code",
   "execution_count": null,
   "metadata": {},
   "outputs": [],
   "source": []
  }
 ],
 "metadata": {
  "kernelspec": {
   "display_name": "R",
   "language": "R",
   "name": "ir"
  },
  "language_info": {
   "codemirror_mode": "r",
   "file_extension": ".r",
   "mimetype": "text/x-r-source",
   "name": "R",
   "pygments_lexer": "r",
   "version": "3.6.0"
  }
 },
 "nbformat": 4,
 "nbformat_minor": 2
}
